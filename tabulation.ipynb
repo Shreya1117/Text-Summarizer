{
 "cells": [
  {
   "cell_type": "code",
   "execution_count": 9,
   "metadata": {
    "execution": {
     "iopub.execute_input": "2024-10-22T22:50:20.470590Z",
     "iopub.status.busy": "2024-10-22T22:50:20.470139Z",
     "iopub.status.idle": "2024-10-22T22:50:20.477275Z",
     "shell.execute_reply": "2024-10-22T22:50:20.476155Z",
     "shell.execute_reply.started": "2024-10-22T22:50:20.470550Z"
    }
   },
   "outputs": [],
   "source": [
    "import pandas as pd\n",
    "import numpy as np\n",
    "import nltk\n",
    "import re           \n",
    "from bs4 import BeautifulSoup \n",
    "from tensorflow.keras.preprocessing.text import Tokenizer\n",
    "from tensorflow.keras.preprocessing.sequence import pad_sequences\n",
    "\n",
    " \n",
    "from keras.preprocessing.sequence import pad_sequences\n",
    "from nltk.corpus import stopwords   \n",
    "import warnings\n",
    "pd.set_option(\"display.max_colwidth\", 200)\n",
    "warnings.filterwarnings(\"ignore\")\n"
   ]
  },
  {
   "cell_type": "code",
   "execution_count": 10,
   "metadata": {
    "execution": {
     "iopub.execute_input": "2024-10-22T22:50:21.050929Z",
     "iopub.status.busy": "2024-10-22T22:50:21.050040Z",
     "iopub.status.idle": "2024-10-22T22:50:21.813306Z",
     "shell.execute_reply": "2024-10-22T22:50:21.812429Z",
     "shell.execute_reply.started": "2024-10-22T22:50:21.050889Z"
    }
   },
   "outputs": [],
   "source": [
    "df = pd.read_csv('/kaggle/input/dattacnn/validation.csv')"
   ]
  },
  {
   "cell_type": "code",
   "execution_count": 11,
   "metadata": {
    "execution": {
     "iopub.execute_input": "2024-10-22T22:50:21.815290Z",
     "iopub.status.busy": "2024-10-22T22:50:21.814935Z",
     "iopub.status.idle": "2024-10-22T22:50:21.830137Z",
     "shell.execute_reply": "2024-10-22T22:50:21.829204Z",
     "shell.execute_reply.started": "2024-10-22T22:50:21.815253Z"
    }
   },
   "outputs": [],
   "source": [
    "df.drop_duplicates(['abstract'], inplace=True)\n",
    "df = df.drop(['id'], axis= 1)\n",
    "df.reset_index(inplace=True, drop=True)"
   ]
  },
  {
   "cell_type": "code",
   "execution_count": 13,
   "metadata": {
    "execution": {
     "iopub.execute_input": "2024-10-22T22:50:24.793055Z",
     "iopub.status.busy": "2024-10-22T22:50:24.792656Z",
     "iopub.status.idle": "2024-10-22T22:50:37.862122Z",
     "shell.execute_reply": "2024-10-22T22:50:37.861233Z",
     "shell.execute_reply.started": "2024-10-22T22:50:24.793017Z"
    }
   },
   "outputs": [],
   "source": [
    "stop_words = set(stopwords.words('english')) \n",
    "def text_cleaner(text):\n",
    "    newString = text.lower()\n",
    "    newString = BeautifulSoup(newString, \"lxml\").text\n",
    "    newString = re.sub(r'\\([^)]*\\)', '', newString)\n",
    "    newString = re.sub('\"','', newString)\n",
    "    newString = ' '.join([contraction_mapping[t] if t in contraction_mapping else t for t in newString.split(\" \")])    \n",
    "    newString = re.sub(r\"'s\\b\",\"\",newString)\n",
    "    newString = re.sub(\"[^a-zA-Z]\", \" \", newString) \n",
    "    tokens = [w for w in newString.split() if not w in stop_words]\n",
    "    long_words=[]\n",
    "    for i in tokens:\n",
    "        if len(i)>=3:                  #removing short word\n",
    "            long_words.append(i)   \n",
    "    return (\" \".join(long_words)).strip()\n",
    "\n",
    "cleaned_text = []\n",
    "for t in df['article']:\n",
    "    cleaned_text.append(text_cleaner(t))"
   ]
  },
  {
   "cell_type": "code",
   "execution_count": 14,
   "metadata": {
    "execution": {
     "iopub.execute_input": "2024-10-22T22:50:37.864870Z",
     "iopub.status.busy": "2024-10-22T22:50:37.864193Z",
     "iopub.status.idle": "2024-10-22T22:50:38.812485Z",
     "shell.execute_reply": "2024-10-22T22:50:38.811554Z",
     "shell.execute_reply.started": "2024-10-22T22:50:37.864821Z"
    }
   },
   "outputs": [],
   "source": [
    "def summary_cleaner(text):\n",
    "    newString = re.sub('\"','', text)\n",
    "    newString = ' '.join([contraction_mapping[t] if t in contraction_mapping else t for t in newString.split(\" \")])    \n",
    "    newString = re.sub(r\"'s\\b\",\"\",newString)\n",
    "    newString = re.sub(\"[^a-zA-Z]\", \" \", newString)\n",
    "    newString = newString.lower()\n",
    "    tokens=newString.split()\n",
    "    newString=''\n",
    "    for i in tokens:\n",
    "        if len(i)>1:                                 \n",
    "            newString=newString+i+' '  \n",
    "    return newString\n",
    "\n",
    "#Call the above function\n",
    "cleaned_summary = []\n",
    "for t in df['abstract']:\n",
    "    cleaned_summary.append(summary_cleaner(t))\n",
    "\n",
    "df['article']=cleaned_text\n",
    "df['abstract']=cleaned_summary\n",
    "df['abstract'].replace('', np.nan, inplace=True)\n",
    "df.dropna(axis=0,inplace=True)"
   ]
  },
  {
   "cell_type": "code",
   "execution_count": 15,
   "metadata": {
    "execution": {
     "iopub.execute_input": "2024-10-22T22:50:38.814387Z",
     "iopub.status.busy": "2024-10-22T22:50:38.813938Z",
     "iopub.status.idle": "2024-10-22T22:50:39.954373Z",
     "shell.execute_reply": "2024-10-22T22:50:39.953332Z",
     "shell.execute_reply.started": "2024-10-22T22:50:38.814338Z"
    }
   },
   "outputs": [
    {
     "data": {
      "image/png": "[encoded data removed]",
      "text/plain": [
       "<Figure size 640x480 with 2 Axes>"
      ]
     },
     "metadata": {},
     "output_type": "display_data"
    }
   ],
   "source": [
    "import matplotlib.pyplot as plt\n",
    "text_word_count = []\n",
    "summary_word_count = []\n",
    "\n",
    "# populate the lists with sentence lengths\n",
    "for i in df['article']:\n",
    "      text_word_count.append(len(i.split()))\n",
    "\n",
    "for i in df['article']:\n",
    "      summary_word_count.append(len(i.split()))\n",
    "\n",
    "length_df = pd.DataFrame({'Article':text_word_count, 'Highlights':summary_word_count})\n",
    "length_df.hist(bins = 30)\n",
    "plt.show()"
   ]
  },
  {
   "cell_type": "code",
   "execution_count": 16,
   "metadata": {
    "execution": {
     "iopub.execute_input": "2024-10-22T22:50:45.418178Z",
     "iopub.status.busy": "2024-10-22T22:50:45.417756Z",
     "iopub.status.idle": "2024-10-22T22:50:45.436025Z",
     "shell.execute_reply": "2024-10-22T22:50:45.434982Z",
     "shell.execute_reply.started": "2024-10-22T22:50:45.418138Z"
    }
   },
   "outputs": [
    {
     "data": {
      "text/html": [
       "<div>\n",
       "<style scoped>\n",
       "    .dataframe tbody tr th:only-of-type {\n",
       "        vertical-align: middle;\n",
       "    }\n",
       "\n",
       "    .dataframe tbody tr th {\n",
       "        vertical-align: top;\n",
       "    }\n",
       "\n",
       "    .dataframe thead th {\n",
       "        text-align: right;\n",
       "    }\n",
       "</style>\n",
       "<table border=\"1\" class=\"dataframe\">\n",
       "  <thead>\n",
       "    <tr style=\"text-align: right;\">\n",
       "      <th></th>\n",
       "      <th>article</th>\n",
       "      <th>abstract</th>\n",
       "    </tr>\n",
       "  </thead>\n",
       "  <tbody>\n",
       "    <tr>\n",
       "      <th>1006</th>\n",
       "      <td>lucky recipient bunch fragrant roses valentine day likely came kenya country third largest exporter cut flowers world accounting around sales european union famed long lasting kenya roses carnatio...</td>\n",
       "      <td>kenya is one of the biggest flower exporters in the world around one in three flowers sold in europe come from the country</td>\n",
       "    </tr>\n",
       "    <tr>\n",
       "      <th>8607</th>\n",
       "      <td>house collapsed pile rubble builders started reconfigure inside property split two homes property rodney way romford collapsed tuesday leading london fire brigade evacuate surrounding residents fe...</td>\n",
       "      <td>the two bedroom end of terrace house collapsed on tuesday morning builders had demolished garage and stripped the inside of the house developers wanted to build second house on the side of the ori...</td>\n",
       "    </tr>\n",
       "    <tr>\n",
       "      <th>6945</th>\n",
       "      <td>erotic fiction made millions seems james author fifty shades grey trilogy new passion life year old spotted driving tesla model electric car shopping trip john lewis miss james whose real name eri...</td>\n",
       "      <td>fifty shades author james was spotted in her new electric car she swapped her mini for the battery powered luxury tesla model sedan boasts top speed of mph and can do to in seconds former tv execu...</td>\n",
       "    </tr>\n",
       "    <tr>\n",
       "      <th>11788</th>\n",
       "      <td>manchester city chelsea set challenge manchester united services gareth bale summer pressure bale madrid intensified recent weeks move back premier league cards assumed bale leave madrid move unit...</td>\n",
       "      <td>gareth bale suitors now include chelsea and manchester city chelsea may put price tag on petr cech west ham want sensational reunion with carlos tevez liverpool are convinced there is no interest ...</td>\n",
       "    </tr>\n",
       "    <tr>\n",
       "      <th>12763</th>\n",
       "      <td>thorgan hazard revealed remains ambition return chelsea despite leaving club permanent basis february year old younger brother eden joined borussia monchengladbach loan last summer made deal bunde...</td>\n",
       "      <td>thorgan hazard joined borussia monchengladbach on loan last summer the year old made the switch permanent at the end of february chelsea retained buy back option as part of thetransfer hazard reve...</td>\n",
       "    </tr>\n",
       "    <tr>\n",
       "      <th>...</th>\n",
       "      <td>...</td>\n",
       "      <td>...</td>\n",
       "    </tr>\n",
       "    <tr>\n",
       "      <th>8719</th>\n",
       "      <td>georgia police officer shot dead reportedly drunk gunman ambushed cops heavy fog early wednesday family members identified slain fulton county officer year old terence avery green department years...</td>\n",
       "      <td>family members identified the slain fulton county officer as terence avery green who had been with the department for years he had headed to street near fairburn with other officers following call...</td>\n",
       "    </tr>\n",
       "    <tr>\n",
       "      <th>14</th>\n",
       "      <td>self driving car gearing mile cross country road trip san francisco new york begins next week person always behind wheel autonomous car developed delphi automotive order take control situation veh...</td>\n",
       "      <td>the delphi automotive car will drive eight hours day for eight days there will be driver behind the wheel in case there is situation car cannot handle on its own delphi said trip will be ultimate ...</td>\n",
       "    </tr>\n",
       "    <tr>\n",
       "      <th>8430</th>\n",
       "      <td>number seven steven gerrard side walked onto hallowed anfield turf roar heard sides stadium fans welcomed return brilliant exciting unpredictable maverick luis suarez liverpool fan favourite got t...</td>\n",
       "      <td>luis suarez came off the bench to huge roar at anfield on his return the uruguayan played for steven gerrard team in the all star game suarez praised gerrard as the greatest one and posted photo o...</td>\n",
       "    </tr>\n",
       "    <tr>\n",
       "      <th>4099</th>\n",
       "      <td>today might mother day comes staying slim women afford put feet according study burn far fewer calories watching sofa partners doctors measured much energy three couples expended day day activitie...</td>\n",
       "      <td>doctors measured how much energy three couples expended day to day dr chris van tulleken said women burned less because they weighed less results shown in bbc programme the truth about calories on...</td>\n",
       "    </tr>\n",
       "    <tr>\n",
       "      <th>7072</th>\n",
       "      <td>authorities said sunday year old woman shot death san francisco bay area apartment last week following visit sikh temple victim randhir kaur university california san francisco school dentistry st...</td>\n",
       "      <td>randhir kaur was shot to death in her albany california apartment last week following visit to sikh temple kaur was university of california san francisco ucsf school of dentistry student authorit...</td>\n",
       "    </tr>\n",
       "  </tbody>\n",
       "</table>\n",
       "<p>1330 rows × 2 columns</p>\n",
       "</div>"
      ],
      "text/plain": [
       "                                                                                                                                                                                                       article  \\\n",
       "1006   lucky recipient bunch fragrant roses valentine day likely came kenya country third largest exporter cut flowers world accounting around sales european union famed long lasting kenya roses carnatio...   \n",
       "8607   house collapsed pile rubble builders started reconfigure inside property split two homes property rodney way romford collapsed tuesday leading london fire brigade evacuate surrounding residents fe...   \n",
       "6945   erotic fiction made millions seems james author fifty shades grey trilogy new passion life year old spotted driving tesla model electric car shopping trip john lewis miss james whose real name eri...   \n",
       "11788  manchester city chelsea set challenge manchester united services gareth bale summer pressure bale madrid intensified recent weeks move back premier league cards assumed bale leave madrid move unit...   \n",
       "12763  thorgan hazard revealed remains ambition return chelsea despite leaving club permanent basis february year old younger brother eden joined borussia monchengladbach loan last summer made deal bunde...   \n",
       "...                                                                                                                                                                                                        ...   \n",
       "8719   georgia police officer shot dead reportedly drunk gunman ambushed cops heavy fog early wednesday family members identified slain fulton county officer year old terence avery green department years...   \n",
       "14     self driving car gearing mile cross country road trip san francisco new york begins next week person always behind wheel autonomous car developed delphi automotive order take control situation veh...   \n",
       "8430   number seven steven gerrard side walked onto hallowed anfield turf roar heard sides stadium fans welcomed return brilliant exciting unpredictable maverick luis suarez liverpool fan favourite got t...   \n",
       "4099   today might mother day comes staying slim women afford put feet according study burn far fewer calories watching sofa partners doctors measured much energy three couples expended day day activitie...   \n",
       "7072   authorities said sunday year old woman shot death san francisco bay area apartment last week following visit sikh temple victim randhir kaur university california san francisco school dentistry st...   \n",
       "\n",
       "                                                                                                                                                                                                      abstract  \n",
       "1006                                                                               kenya is one of the biggest flower exporters in the world around one in three flowers sold in europe come from the country   \n",
       "8607   the two bedroom end of terrace house collapsed on tuesday morning builders had demolished garage and stripped the inside of the house developers wanted to build second house on the side of the ori...  \n",
       "6945   fifty shades author james was spotted in her new electric car she swapped her mini for the battery powered luxury tesla model sedan boasts top speed of mph and can do to in seconds former tv execu...  \n",
       "11788  gareth bale suitors now include chelsea and manchester city chelsea may put price tag on petr cech west ham want sensational reunion with carlos tevez liverpool are convinced there is no interest ...  \n",
       "12763  thorgan hazard joined borussia monchengladbach on loan last summer the year old made the switch permanent at the end of february chelsea retained buy back option as part of thetransfer hazard reve...  \n",
       "...                                                                                                                                                                                                        ...  \n",
       "8719   family members identified the slain fulton county officer as terence avery green who had been with the department for years he had headed to street near fairburn with other officers following call...  \n",
       "14     the delphi automotive car will drive eight hours day for eight days there will be driver behind the wheel in case there is situation car cannot handle on its own delphi said trip will be ultimate ...  \n",
       "8430   luis suarez came off the bench to huge roar at anfield on his return the uruguayan played for steven gerrard team in the all star game suarez praised gerrard as the greatest one and posted photo o...  \n",
       "4099   doctors measured how much energy three couples expended day to day dr chris van tulleken said women burned less because they weighed less results shown in bbc programme the truth about calories on...  \n",
       "7072   randhir kaur was shot to death in her albany california apartment last week following visit to sikh temple kaur was university of california san francisco ucsf school of dentistry student authorit...  \n",
       "\n",
       "[1330 rows x 2 columns]"
      ]
     },
     "execution_count": 16,
     "metadata": {},
     "output_type": "execute_result"
    }
   ],
   "source": [
    "from sklearn.utils import shuffle\n",
    "df_shuffled = shuffle(df, random_state=42)  # random_state for reproducibility\n",
    "subset_size = int(0.1 * len(df_shuffled)) # take 0.25 of data length عايزين نخلص \n",
    "df = df_shuffled.iloc[:subset_size]\n",
    "df"
   ]
  },
  {
   "cell_type": "code",
   "execution_count": 17,
   "metadata": {
    "execution": {
     "iopub.execute_input": "2024-10-22T22:50:46.451437Z",
     "iopub.status.busy": "2024-10-22T22:50:46.451043Z",
     "iopub.status.idle": "2024-10-22T22:50:46.459172Z",
     "shell.execute_reply": "2024-10-22T22:50:46.458121Z",
     "shell.execute_reply.started": "2024-10-22T22:50:46.451401Z"
    }
   },
   "outputs": [
    {
     "name": "stdout",
     "output_type": "stream",
     "text": [
      "Missing Values in Abstract and Title fields:\n",
      "article     0\n",
      "abstract    0\n",
      "dtype: int64\n"
     ]
    }
   ],
   "source": [
    "# Check for missing or null values in Article and Abstract fields\n",
    "print(\"Missing Values in Abstract and Title fields:\")\n",
    "print(df[['article', 'abstract']].isnull().sum())"
   ]
  },
  {
   "cell_type": "code",
   "execution_count": 1,
   "metadata": {},
   "outputs": [
    {
     "name": "stdout",
     "output_type": "stream",
     "text": [
      "WARNING:tensorflow:From C:\\Users\\hp\\anaconda3newone\\Lib\\site-packages\\tf_keras\\src\\losses.py:2976: The name tf.losses.sparse_softmax_cross_entropy is deprecated. Please use tf.compat.v1.losses.sparse_softmax_cross_entropy instead.\n",
      "\n"
     ]
    },
    {
     "name": "stderr",
     "output_type": "stream",
     "text": [
      "[nltk_data] Downloading package wordnet to\n",
      "[nltk_data]     C:\\Users\\hp\\AppData\\Roaming\\nltk_data...\n",
      "[nltk_data]   Package wordnet is already up-to-date!\n"
     ]
    },
    {
     "data": {
      "text/plain": [
       "True"
      ]
     },
     "execution_count": 1,
     "metadata": {},
     "output_type": "execute_result"
    }
   ],
   "source": [
    "import os\n",
    "import random\n",
    "\n",
    "import numpy as np\n",
    "import pandas as pd\n",
    "import regex as re\n",
    "import unicodedata\n",
    "import contractions\n",
    "import nltk\n",
    "import matplotlib.pyplot as plt\n",
    "import seaborn as sns\n",
    "from tqdm import tqdm\n",
    "from datasets import Dataset\n",
    "\n",
    "import torch\n",
    "from transformers import AutoTokenizer, AutoModelForSeq2SeqLM\n",
    "from transformers import PegasusForConditionalGeneration, PegasusTokenizer, Trainer, TrainingArguments\n",
    "from nltk.translate.bleu_score import sentence_bleu, SmoothingFunction, corpus_bleu\n",
    "from rouge import Rouge\n",
    "from rouge_score import rouge_scorer\n",
    "from sklearn.model_selection import train_test_split\n",
    "from sklearn.metrics.pairwise import cosine_similarity\n",
    "\n",
    "import tensorflow as tf\n",
    "from tensorflow.keras.preprocessing.sequence import pad_sequences\n",
    "from tensorflow.keras.preprocessing.text import Tokenizer\n",
    "from tensorflow.keras.models import Model\n",
    "\n",
    "\n",
    "# Download WordNet for NLTK\n",
    "nltk.download('wordnet')"
   ]
  },
  {
   "cell_type": "code",
   "execution_count": 29,
   "metadata": {
    "execution": {
     "iopub.execute_input": "2024-10-22T22:51:44.989233Z",
     "iopub.status.busy": "2024-10-22T22:51:44.988243Z",
     "iopub.status.idle": "2024-10-22T22:51:45.116420Z",
     "shell.execute_reply": "2024-10-22T22:51:45.114913Z",
     "shell.execute_reply.started": "2024-10-22T22:51:44.989186Z"
    }
   },
   "outputs": [],
   "source": [
    "# Remove duplicates if necessary\n",
    "df = df.drop_duplicates(subset=['article', 'abstract'])  # Remove based on Abstract-Title pairs"
   ]
  },
  {
   "cell_type": "code",
   "execution_count": 35,
   "metadata": {
    "execution": {
     "iopub.execute_input": "2024-10-22T22:52:15.154110Z",
     "iopub.status.busy": "2024-10-22T22:52:15.153694Z",
     "iopub.status.idle": "2024-10-22T22:52:15.167202Z",
     "shell.execute_reply": "2024-10-22T22:52:15.166105Z",
     "shell.execute_reply.started": "2024-10-22T22:52:15.154050Z"
    }
   },
   "outputs": [],
   "source": [
    "def evaluate_model(common_model_name, actual_model_name, df, batch_size=5):\n",
    "    # Create a smoothing function\n",
    "    smoothing_function = SmoothingFunction()\n",
    "\n",
    "    # Load the model and tokenizer\n",
    "    tokenizer = AutoTokenizer.from_pretrained(actual_model_name)\n",
    "    model = AutoModelForSeq2SeqLM.from_pretrained(actual_model_name)\n",
    "\n",
    "    # Filter for abstracts in the 250-300 word category\n",
    "    filtered_df = df[df['abstract_word_category'] == '200-250']\n",
    "    \n",
    "    # Adjust sample size if filtered_df has fewer than 500 rows\n",
    "    sample_size = min(500, len(filtered_df))  \n",
    "    sampled_rows = filtered_df.sample(n=sample_size, random_state=42)\n",
    "\n",
    "    # Initialize cumulative scores\n",
    "    total_bleu = 0\n",
    "    total_rouge_1 = 0\n",
    "    total_rouge_2 = 0\n",
    "    total_rouge_l = 0\n",
    "    num_summaries = 0\n",
    "    rouge = Rouge()\n",
    "\n",
    "    for i in tqdm(range(0, len(sampled_rows), batch_size)):\n",
    "        texts = sampled_rows[\"article\"].iloc[i:i + batch_size].tolist()\n",
    "        actual_summaries = sampled_rows[\"abstract\"].iloc[i:i + batch_size].tolist()\n",
    "\n",
    "        inputs = tokenizer(texts, return_tensors=\"pt\", max_length=512, truncation=True, padding=True)\n",
    "\n",
    "        with torch.amp.autocast(device_type='cpu'):\n",
    "            summary_ids = model.generate(inputs['input_ids'], max_length=275, min_length=175, length_penalty=1.0, num_beams=2, early_stopping=True)\n",
    "\n",
    "        summaries = [tokenizer.decode(sid, skip_special_tokens=True) for sid in summary_ids]\n",
    "\n",
    "        for actual_summary, summary in zip(actual_summaries, summaries):\n",
    "            reference = [actual_summary.split()]\n",
    "            candidate = summary.split()\n",
    "            bleu_score = sentence_bleu(reference, candidate, smoothing_function=smoothing_function.method1)\n",
    "\n",
    "            scores = rouge.get_scores(summary, actual_summary)[0]\n",
    "            \n",
    "            # Accumulate scores\n",
    "            total_bleu += bleu_score\n",
    "            total_rouge_1 += scores['rouge-1']['f']\n",
    "            total_rouge_2 += scores['rouge-2']['f']\n",
    "            total_rouge_l += scores['rouge-l']['f']\n",
    "            num_summaries += 1\n",
    "\n",
    "    # Calculate final scores\n",
    "    final_bleu = total_bleu / num_summaries\n",
    "    final_rouge_1 = total_rouge_1 / num_summaries\n",
    "    final_rouge_2 = total_rouge_2 / num_summaries\n",
    "    final_rouge_l = total_rouge_l / num_summaries\n",
    "\n",
    "    # Create a Series to hold the final scores\n",
    "    scores_series = pd.Series({\n",
    "        'Model': common_model_name,\n",
    "        'Final BLEU Score': final_bleu,\n",
    "        'Final ROUGE-1': final_rouge_1,\n",
    "        'Final ROUGE-2': final_rouge_2,\n",
    "        'Final ROUGE-L': final_rouge_l,\n",
    "    })\n",
    "\n",
    "    return scores_series\n"
   ]
  },
  {
   "cell_type": "code",
   "execution_count": 36,
   "metadata": {
    "execution": {
     "iopub.execute_input": "2024-10-22T22:53:07.569541Z",
     "iopub.status.busy": "2024-10-22T22:53:07.569110Z",
     "iopub.status.idle": "2024-10-22T22:58:02.470334Z",
     "shell.execute_reply": "2024-10-22T22:58:02.469099Z",
     "shell.execute_reply.started": "2024-10-22T22:53:07.569502Z"
    }
   },
   "outputs": [
    {
     "data": {
      "application/vnd.jupyter.widget-view+json": {
       "model_id": "54d82e0a72a047eaad43ba544ba81489",
       "version_major": 2,
       "version_minor": 0
      },
      "text/plain": [
       "tokenizer_config.json:   0%|          | 0.00/1.99k [00:00<?, ?B/s]"
      ]
     },
     "metadata": {},
     "output_type": "display_data"
    },
    {
     "data": {
      "application/vnd.jupyter.widget-view+json": {
       "model_id": "c1ae145af4c148ec866cd45dc95e478d",
       "version_major": 2,
       "version_minor": 0
      },
      "text/plain": [
       "tokenizer.json:   0%|          | 0.00/6.60M [00:00<?, ?B/s]"
      ]
     },
     "metadata": {},
     "output_type": "display_data"
    },
    {
     "data": {
      "application/vnd.jupyter.widget-view+json": {
       "model_id": "712fe065bef04ec898a3d03cfba5182f",
       "version_major": 2,
       "version_minor": 0
      },
      "text/plain": [
       "special_tokens_map.json:   0%|          | 0.00/1.77k [00:00<?, ?B/s]"
      ]
     },
     "metadata": {},
     "output_type": "display_data"
    },
    {
     "data": {
      "application/vnd.jupyter.widget-view+json": {
       "model_id": "204f18f168394b44b42cb209ac97914a",
       "version_major": 2,
       "version_minor": 0
      },
      "text/plain": [
       "config.json:   0%|          | 0.00/1.49k [00:00<?, ?B/s]"
      ]
     },
     "metadata": {},
     "output_type": "display_data"
    },
    {
     "data": {
      "application/vnd.jupyter.widget-view+json": {
       "model_id": "dab17149401147f6a382c87cb24629b9",
       "version_major": 2,
       "version_minor": 0
      },
      "text/plain": [
       "pytorch_model.bin:   0%|          | 0.00/1.09G [00:00<?, ?B/s]"
      ]
     },
     "metadata": {},
     "output_type": "display_data"
    },
    {
     "data": {
      "application/vnd.jupyter.widget-view+json": {
       "model_id": "e07986d6916b4cac957b9914b08de451",
       "version_major": 2,
       "version_minor": 0
      },
      "text/plain": [
       "generation_config.json:   0%|          | 0.00/257 [00:00<?, ?B/s]"
      ]
     },
     "metadata": {},
     "output_type": "display_data"
    },
    {
     "name": "stderr",
     "output_type": "stream",
     "text": [
      "100%|██████████| 1/1 [00:50<00:00, 50.84s/it]\n"
     ]
    },
    {
     "data": {
      "application/vnd.jupyter.widget-view+json": {
       "model_id": "0ebf3bb8df44498389f66068c7bde7e6",
       "version_major": 2,
       "version_minor": 0
      },
      "text/plain": [
       "tokenizer_config.json:   0%|          | 0.00/88.0 [00:00<?, ?B/s]"
      ]
     },
     "metadata": {},
     "output_type": "display_data"
    },
    {
     "data": {
      "application/vnd.jupyter.widget-view+json": {
       "model_id": "ae333598e2f54677be36b91770f22c06",
       "version_major": 2,
       "version_minor": 0
      },
      "text/plain": [
       "config.json:   0%|          | 0.00/3.09k [00:00<?, ?B/s]"
      ]
     },
     "metadata": {},
     "output_type": "display_data"
    },
    {
     "data": {
      "application/vnd.jupyter.widget-view+json": {
       "model_id": "6458bfd129944d338c94a7c7d40f499a",
       "version_major": 2,
       "version_minor": 0
      },
      "text/plain": [
       "spiece.model:   0%|          | 0.00/1.91M [00:00<?, ?B/s]"
      ]
     },
     "metadata": {},
     "output_type": "display_data"
    },
    {
     "data": {
      "application/vnd.jupyter.widget-view+json": {
       "model_id": "2579bbea5b9d42ef8e364248dd20c899",
       "version_major": 2,
       "version_minor": 0
      },
      "text/plain": [
       "special_tokens_map.json:   0%|          | 0.00/65.0 [00:00<?, ?B/s]"
      ]
     },
     "metadata": {},
     "output_type": "display_data"
    },
    {
     "data": {
      "application/vnd.jupyter.widget-view+json": {
       "model_id": "f179206e31954c21b0792639a22361cf",
       "version_major": 2,
       "version_minor": 0
      },
      "text/plain": [
       "pytorch_model.bin:   0%|          | 0.00/2.28G [00:00<?, ?B/s]"
      ]
     },
     "metadata": {},
     "output_type": "display_data"
    },
    {
     "name": "stderr",
     "output_type": "stream",
     "text": [
      "Some weights of PegasusForConditionalGeneration were not initialized from the model checkpoint at google/pegasus-large and are newly initialized: ['model.decoder.embed_positions.weight', 'model.encoder.embed_positions.weight']\n",
      "You should probably TRAIN this model on a down-stream task to be able to use it for predictions and inference.\n"
     ]
    },
    {
     "data": {
      "application/vnd.jupyter.widget-view+json": {
       "model_id": "aeb72ff9663143f2ba566c574bfb9055",
       "version_major": 2,
       "version_minor": 0
      },
      "text/plain": [
       "generation_config.json:   0%|          | 0.00/260 [00:00<?, ?B/s]"
      ]
     },
     "metadata": {},
     "output_type": "display_data"
    },
    {
     "name": "stderr",
     "output_type": "stream",
     "text": [
      "100%|██████████| 1/1 [01:07<00:00, 67.16s/it]\n"
     ]
    },
    {
     "data": {
      "application/vnd.jupyter.widget-view+json": {
       "model_id": "414a61f238904050951265d50a345596",
       "version_major": 2,
       "version_minor": 0
      },
      "text/plain": [
       "config.json:   0%|          | 0.00/1.58k [00:00<?, ?B/s]"
      ]
     },
     "metadata": {},
     "output_type": "display_data"
    },
    {
     "data": {
      "application/vnd.jupyter.widget-view+json": {
       "model_id": "dd441783e01c4317bff1e34d6543792c",
       "version_major": 2,
       "version_minor": 0
      },
      "text/plain": [
       "vocab.json:   0%|          | 0.00/899k [00:00<?, ?B/s]"
      ]
     },
     "metadata": {},
     "output_type": "display_data"
    },
    {
     "data": {
      "application/vnd.jupyter.widget-view+json": {
       "model_id": "c2c1fc603f754fddbe963b2bc96b620c",
       "version_major": 2,
       "version_minor": 0
      },
      "text/plain": [
       "merges.txt:   0%|          | 0.00/456k [00:00<?, ?B/s]"
      ]
     },
     "metadata": {},
     "output_type": "display_data"
    },
    {
     "data": {
      "application/vnd.jupyter.widget-view+json": {
       "model_id": "f784641064fc4e6eb4e094f9a4c04d34",
       "version_major": 2,
       "version_minor": 0
      },
      "text/plain": [
       "tokenizer.json:   0%|          | 0.00/1.36M [00:00<?, ?B/s]"
      ]
     },
     "metadata": {},
     "output_type": "display_data"
    },
    {
     "data": {
      "application/vnd.jupyter.widget-view+json": {
       "model_id": "40bc7950f23946e39a9a74a49a3acea7",
       "version_major": 2,
       "version_minor": 0
      },
      "text/plain": [
       "model.safetensors:   0%|          | 0.00/1.63G [00:00<?, ?B/s]"
      ]
     },
     "metadata": {},
     "output_type": "display_data"
    },
    {
     "data": {
      "application/vnd.jupyter.widget-view+json": {
       "model_id": "a937890821854a58a65b152775628ce9",
       "version_major": 2,
       "version_minor": 0
      },
      "text/plain": [
       "generation_config.json:   0%|          | 0.00/363 [00:00<?, ?B/s]"
      ]
     },
     "metadata": {},
     "output_type": "display_data"
    },
    {
     "name": "stderr",
     "output_type": "stream",
     "text": [
      "100%|██████████| 1/1 [00:54<00:00, 54.46s/it]\n"
     ]
    },
    {
     "data": {
      "application/vnd.jupyter.widget-view+json": {
       "model_id": "352efd92378d4a9395cb891cae6d73fa",
       "version_major": 2,
       "version_minor": 0
      },
      "text/plain": [
       "tokenizer_config.json:   0%|          | 0.00/26.0 [00:00<?, ?B/s]"
      ]
     },
     "metadata": {},
     "output_type": "display_data"
    },
    {
     "data": {
      "application/vnd.jupyter.widget-view+json": {
       "model_id": "2dce7130de4b42ac9ede50c347a30ff1",
       "version_major": 2,
       "version_minor": 0
      },
      "text/plain": [
       "config.json:   0%|          | 0.00/1.63k [00:00<?, ?B/s]"
      ]
     },
     "metadata": {},
     "output_type": "display_data"
    },
    {
     "data": {
      "application/vnd.jupyter.widget-view+json": {
       "model_id": "2d2f32178c8442ca8d35b8ec723e4285",
       "version_major": 2,
       "version_minor": 0
      },
      "text/plain": [
       "vocab.json:   0%|          | 0.00/899k [00:00<?, ?B/s]"
      ]
     },
     "metadata": {},
     "output_type": "display_data"
    },
    {
     "data": {
      "application/vnd.jupyter.widget-view+json": {
       "model_id": "889d9e088a2b4a03831c6453ba0c8e69",
       "version_major": 2,
       "version_minor": 0
      },
      "text/plain": [
       "merges.txt:   0%|          | 0.00/456k [00:00<?, ?B/s]"
      ]
     },
     "metadata": {},
     "output_type": "display_data"
    },
    {
     "data": {
      "application/vnd.jupyter.widget-view+json": {
       "model_id": "f7b06e63a033482096167fd484c955b1",
       "version_major": 2,
       "version_minor": 0
      },
      "text/plain": [
       "tokenizer.json:   0%|          | 0.00/1.36M [00:00<?, ?B/s]"
      ]
     },
     "metadata": {},
     "output_type": "display_data"
    },
    {
     "data": {
      "application/vnd.jupyter.widget-view+json": {
       "model_id": "55af647fdd2047f89beb8ab976a3a6d0",
       "version_major": 2,
       "version_minor": 0
      },
      "text/plain": [
       "pytorch_model.bin:   0%|          | 0.00/1.02G [00:00<?, ?B/s]"
      ]
     },
     "metadata": {},
     "output_type": "display_data"
    },
    {
     "name": "stderr",
     "output_type": "stream",
     "text": [
      "100%|██████████| 1/1 [01:17<00:00, 77.01s/it]\n"
     ]
    },
    {
     "data": {
      "text/html": [
       "<div>\n",
       "<style scoped>\n",
       "    .dataframe tbody tr th:only-of-type {\n",
       "        vertical-align: middle;\n",
       "    }\n",
       "\n",
       "    .dataframe tbody tr th {\n",
       "        vertical-align: top;\n",
       "    }\n",
       "\n",
       "    .dataframe thead th {\n",
       "        text-align: right;\n",
       "    }\n",
       "</style>\n",
       "<table border=\"1\" class=\"dataframe\">\n",
       "  <thead>\n",
       "    <tr style=\"text-align: right;\">\n",
       "      <th></th>\n",
       "      <th>Model</th>\n",
       "      <th>Final BLEU Score</th>\n",
       "      <th>Final ROUGE-1</th>\n",
       "      <th>Final ROUGE-2</th>\n",
       "      <th>Final ROUGE-L</th>\n",
       "    </tr>\n",
       "  </thead>\n",
       "  <tbody>\n",
       "    <tr>\n",
       "      <th>0</th>\n",
       "      <td>Fine Tuned Pegasus</td>\n",
       "      <td>0.013764</td>\n",
       "      <td>0.187067</td>\n",
       "      <td>0.040512</td>\n",
       "      <td>0.173048</td>\n",
       "    </tr>\n",
       "    <tr>\n",
       "      <th>1</th>\n",
       "      <td>Pegasus</td>\n",
       "      <td>0.058678</td>\n",
       "      <td>0.326255</td>\n",
       "      <td>0.111350</td>\n",
       "      <td>0.302142</td>\n",
       "    </tr>\n",
       "    <tr>\n",
       "      <th>2</th>\n",
       "      <td>BartCNN</td>\n",
       "      <td>0.063247</td>\n",
       "      <td>0.349006</td>\n",
       "      <td>0.138280</td>\n",
       "      <td>0.331866</td>\n",
       "    </tr>\n",
       "    <tr>\n",
       "      <th>3</th>\n",
       "      <td>CNN</td>\n",
       "      <td>0.079905</td>\n",
       "      <td>0.299293</td>\n",
       "      <td>0.110637</td>\n",
       "      <td>0.264445</td>\n",
       "    </tr>\n",
       "  </tbody>\n",
       "</table>\n",
       "</div>"
      ],
      "text/plain": [
       "                Model  Final BLEU Score  Final ROUGE-1  Final ROUGE-2  \\\n",
       "0  Fine Tuned Pegasus          0.013764       0.187067       0.040512   \n",
       "1             Pegasus          0.058678       0.326255       0.111350   \n",
       "2             BartCNN          0.063247       0.349006       0.138280   \n",
       "3                 CNN          0.079905       0.299293       0.110637   \n",
       "\n",
       "   Final ROUGE-L  \n",
       "0       0.173048  \n",
       "1       0.302142  \n",
       "2       0.331866  \n",
       "3       0.264445  "
      ]
     },
     "execution_count": 36,
     "metadata": {},
     "output_type": "execute_result"
    }
   ],
   "source": [
    "# Initialize an empty DataFrame\n",
    "results_df = pd.DataFrame()  \n",
    "\n",
    "# Call the function for different models\n",
    "common_model_names = [\"Pegasus\",\"BartCNN\",\"CNN\"]\n",
    "actual_model_names = [ \n",
    "    \"google/pegasus-large\",\n",
    "    \"facebook/bart-large-cnn\",\n",
    "    \"facebook/bart-large\"\n",
    "]\n",
    "\n",
    "for common_name, actual_name in zip(common_model_names, actual_model_names):\n",
    "    scores = evaluate_model(common_name, actual_name, df)\n",
    "    \n",
    "    # Convert scores to DataFrame if it's not already\n",
    "    scores_df = pd.DataFrame([scores])  # Assuming scores is a dict\n",
    "    results_df = pd.concat([results_df, scores_df], ignore_index=True)\n",
    "\n",
    "results_df"
   ]
  },
  {
   "cell_type": "code",
   "execution_count": null,
   "metadata": {},
   "outputs": [],
   "source": []
  },
  {
   "cell_type": "code",
   "execution_count": null,
   "metadata": {},
   "outputs": [],
   "source": []
  },
  {
   "cell_type": "code",
   "execution_count": null,
   "metadata": {},
   "outputs": [],
   "source": []
  },
  {
   "cell_type": "code",
   "execution_count": null,
   "metadata": {},
   "outputs": [],
   "source": []
  },
  {
   "cell_type": "code",
   "execution_count": null,
   "metadata": {},
   "outputs": [],
   "source": []
  }
 ],
 "metadata": {
  "kaggle": {
   "accelerator": "nvidiaTeslaT4",
   "dataSources": [
    {
     "datasetId": 5928976,
     "sourceId": 9696678,
     "sourceType": "datasetVersion"
    }
   ],
   "dockerImageVersionId": 30787,
   "isGpuEnabled": true,
   "isInternetEnabled": true,
   "language": "python",
   "sourceType": "notebook"
  },
  "kernelspec": {
   "display_name": "Python 3 (ipykernel)",
   "language": "python",
   "name": "python3"
  },
  "language_info": {
   "codemirror_mode": {
    "name": "ipython",
    "version": 3
   },
   "file_extension": ".py",
   "mimetype": "text/x-python",
   "name": "python",
   "nbconvert_exporter": "python",
   "pygments_lexer": "ipython3",
   "version": "3.11.7"
  }
 },
 "nbformat": 4,
 "nbformat_minor": 4
}
