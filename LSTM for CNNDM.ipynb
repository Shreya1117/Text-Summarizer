{
 "cells": [
  {
   "cell_type": "code",
   "execution_count": null,
   "id": "ce4d2731-ed3f-437b-9473-40a1ef0a0475",
   "metadata": {},
   "outputs": [],
   "source": []
  },
  {
   "cell_type": "code",
   "execution_count": null,
   "id": "687e30cb-0981-4c87-9f40-a82742e26815",
   "metadata": {},
   "outputs": [],
   "source": []
  },
  {
   "cell_type": "markdown",
   "id": "ba8b070a-6634-4b26-a09c-3aa8ec78a3c8",
   "metadata": {},
   "source": [
    "### Importing Modules"
   ]
  },
  {
   "cell_type": "code",
   "execution_count": 2,
   "id": "75808091-860c-4264-9300-f404686f11bd",
   "metadata": {},
   "outputs": [],
   "source": [
    "import pandas as pd\n",
    "import numpy as np\n",
    "import nltk\n",
    "import re           \n",
    "from bs4 import BeautifulSoup \n",
    "from tensorflow.keras.preprocessing.text import Tokenizer\n",
    "from tensorflow.keras.preprocessing.sequence import pad_sequences\n",
    "\n",
    " \n",
    "from keras.preprocessing.sequence import pad_sequences\n",
    "from nltk.corpus import stopwords   \n",
    "from tensorflow.keras.layers import Input, LSTM, Embedding, Dense, Concatenate, TimeDistributed, Bidirectional\n",
    "from tensorflow.keras.models import Model\n",
    "from tensorflow.keras.callbacks import EarlyStopping\n",
    "import warnings\n",
    "pd.set_option(\"display.max_colwidth\", 200)\n",
    "warnings.filterwarnings(\"ignore\")\n"
   ]
  },
  {
   "cell_type": "markdown",
   "id": "1ae0fdd9-fb55-404d-ac73-9cca194849f3",
   "metadata": {},
   "source": [
    "### Creating a dataframe"
   ]
  },
  {
   "cell_type": "code",
   "execution_count": 3,
   "id": "565c607a-b928-41f0-b60a-6a91af49b880",
   "metadata": {},
   "outputs": [],
   "source": [
    "train_df = pd.read_csv('train.csv',nrows=1000)\n",
    "test_df = pd.read_csv('test.csv',nrows=1000)"
   ]
  },
  {
   "cell_type": "markdown",
   "id": "afc7aad1-8048-4c46-8299-86981da67502",
   "metadata": {},
   "source": [
    "### Preprocessing"
   ]
  },
  {
   "cell_type": "code",
   "execution_count": 4,
   "id": "f83f518a-be1d-4c3a-afd1-36661944cf52",
   "metadata": {},
   "outputs": [],
   "source": [
    "train_df.drop_duplicates(['highlights'], inplace=True)\n",
    "test_df.drop_duplicates(['highlights'], inplace=True)\n",
    "train_df = train_df.drop(['id'], axis= 1)\n",
    "train_df.reset_index(inplace=True, drop=True)\n",
    "test_df = test_df.drop(['id'], axis= 1)\n",
    "test_df.reset_index(inplace=True, drop=True)"
   ]
  },
  {
   "cell_type": "code",
   "execution_count": 5,
   "id": "25639853-a42c-41c0-8680-908ac18c98f6",
   "metadata": {},
   "outputs": [],
   "source": [
    "\n",
    "contraction_mapping = {\"ain't\": \"is not\", \"aren't\": \"are not\",\"can't\": \"cannot\", \"'cause\": \"because\", \"could've\": \"could have\", \"couldn't\": \"could not\",\n",
    "\n",
    "                           \"didn't\": \"did not\", \"doesn't\": \"does not\", \"don't\": \"do not\", \"hadn't\": \"had not\", \"hasn't\": \"has not\", \"haven't\": \"have not\",\n",
    "\n",
    "                           \"he'd\": \"he would\",\"he'll\": \"he will\", \"he's\": \"he is\", \"how'd\": \"how did\", \"how'd'y\": \"how do you\", \"how'll\": \"how will\", \"how's\": \"how is\",\n",
    "\n",
    "                           \"I'd\": \"I would\", \"I'd've\": \"I would have\", \"I'll\": \"I will\", \"I'll've\": \"I will have\",\"I'm\": \"I am\", \"I've\": \"I have\", \"i'd\": \"i would\",\n",
    "\n",
    "                           \"i'd've\": \"i would have\", \"i'll\": \"i will\",  \"i'll've\": \"i will have\",\"i'm\": \"i am\", \"i've\": \"i have\", \"isn't\": \"is not\", \"it'd\": \"it would\",\n",
    "\n",
    "                           \"it'd've\": \"it would have\", \"it'll\": \"it will\", \"it'll've\": \"it will have\",\"it's\": \"it is\", \"let's\": \"let us\", \"ma'am\": \"madam\",\n",
    "\n",
    "                           \"mayn't\": \"may not\", \"might've\": \"might have\",\"mightn't\": \"might not\",\"mightn't've\": \"might not have\", \"must've\": \"must have\",\n",
    "\n",
    "                           \"mustn't\": \"must not\", \"mustn't've\": \"must not have\", \"needn't\": \"need not\", \"needn't've\": \"need not have\",\"o'clock\": \"of the clock\",\n",
    "\n",
    "                           \"oughtn't\": \"ought not\", \"oughtn't've\": \"ought not have\", \"shan't\": \"shall not\", \"sha'n't\": \"shall not\", \"shan't've\": \"shall not have\",\n",
    "\n",
    "                           \"she'd\": \"she would\", \"she'd've\": \"she would have\", \"she'll\": \"she will\", \"she'll've\": \"she will have\", \"she's\": \"she is\",\n",
    "\n",
    "                           \"should've\": \"should have\", \"shouldn't\": \"should not\", \"shouldn't've\": \"should not have\", \"so've\": \"so have\",\"so's\": \"so as\",\n",
    "\n",
    "                           \"this's\": \"this is\",\"that'd\": \"that would\", \"that'd've\": \"that would have\", \"that's\": \"that is\", \"there'd\": \"there would\",\n",
    "\n",
    "                           \"there'd've\": \"there would have\", \"there's\": \"there is\", \"here's\": \"here is\",\"they'd\": \"they would\", \"they'd've\": \"they would have\",\n",
    "\n",
    "                           \"they'll\": \"they will\", \"they'll've\": \"they will have\", \"they're\": \"they are\", \"they've\": \"they have\", \"to've\": \"to have\",\n",
    "\n",
    "                           \"wasn't\": \"was not\", \"we'd\": \"we would\", \"we'd've\": \"we would have\", \"we'll\": \"we will\", \"we'll've\": \"we will have\", \"we're\": \"we are\",\n",
    "\n",
    "                           \"we've\": \"we have\", \"weren't\": \"were not\", \"what'll\": \"what will\", \"what'll've\": \"what will have\", \"what're\": \"what are\",\n",
    "\n",
    "                           \"what's\": \"what is\", \"what've\": \"what have\", \"when's\": \"when is\", \"when've\": \"when have\", \"where'd\": \"where did\", \"where's\": \"where is\",\n",
    "\n",
    "                           \"where've\": \"where have\", \"who'll\": \"who will\", \"who'll've\": \"who will have\", \"who's\": \"who is\", \"who've\": \"who have\",\n",
    "\n",
    "                           \"why's\": \"why is\", \"why've\": \"why have\", \"will've\": \"will have\", \"won't\": \"will not\", \"won't've\": \"will not have\",\n",
    "\n",
    "                           \"would've\": \"would have\", \"wouldn't\": \"would not\", \"wouldn't've\": \"would not have\", \"y'all\": \"you all\",\n",
    "\n",
    "                           \"y'all'd\": \"you all would\",\"y'all'd've\": \"you all would have\",\"y'all're\": \"you all are\",\"y'all've\": \"you all have\",\n",
    "\n",
    "                           \"you'd\": \"you would\", \"you'd've\": \"you would have\", \"you'll\": \"you will\", \"you'll've\": \"you will have\",\n",
    "\n",
    "                           \"you're\": \"you are\", \"you've\": \"you have\"}"
   ]
  },
  {
   "cell_type": "markdown",
   "id": "58290624-1885-4991-a025-cd4cea975661",
   "metadata": {},
   "source": [
    "#### Removes HTML Tags\n",
    "#### Text inside parenthesis\n",
    "#### Removes very short words\n",
    "#### Removes double quotes and apostrophe's\n",
    "#### Lowers the text"
   ]
  },
  {
   "cell_type": "code",
   "execution_count": 6,
   "id": "f3bfd1bf-f08b-4e86-aa99-4a3922189cc3",
   "metadata": {},
   "outputs": [],
   "source": [
    "stop_words = set(stopwords.words('english')) \n",
    "def text_cleaner(text):\n",
    "    newString = text.lower()\n",
    "    newString = BeautifulSoup(newString, \"lxml\").text\n",
    "    newString = re.sub(r'\\([^)]*\\)', '', newString)\n",
    "    newString = re.sub('\"','', newString)\n",
    "    newString = ' '.join([contraction_mapping[t] if t in contraction_mapping else t for t in newString.split(\" \")])    \n",
    "    newString = re.sub(r\"'s\\b\",\"\",newString)\n",
    "    newString = re.sub(\"[^a-zA-Z]\", \" \", newString) \n",
    "    tokens = [w for w in newString.split() if not w in stop_words]\n",
    "    long_words=[]\n",
    "    for i in tokens:\n",
    "        if len(i)>=3:                  #removing short word\n",
    "            long_words.append(i)   \n",
    "    return (\" \".join(long_words)).strip()\n",
    "\n",
    "cleaned_text = []\n",
    "for t in train_df['article']:\n",
    "    cleaned_text.append(text_cleaner(t))"
   ]
  },
  {
   "cell_type": "code",
   "execution_count": 7,
   "id": "6359d130-4bf2-43f2-be89-38d53cce97ff",
   "metadata": {},
   "outputs": [],
   "source": [
    "def summary_cleaner(text):\n",
    "    newString = re.sub('\"','', text)\n",
    "    newString = ' '.join([contraction_mapping[t] if t in contraction_mapping else t for t in newString.split(\" \")])    \n",
    "    newString = re.sub(r\"'s\\b\",\"\",newString)\n",
    "    newString = re.sub(\"[^a-zA-Z]\", \" \", newString)\n",
    "    newString = newString.lower()\n",
    "    tokens=newString.split()\n",
    "    newString=''\n",
    "    for i in tokens:\n",
    "        if len(i)>1:                                 \n",
    "            newString=newString+i+' '  \n",
    "    return newString\n",
    "\n",
    "#Call the above function\n",
    "cleaned_summary = []\n",
    "for t in train_df['highlights']:\n",
    "    cleaned_summary.append(summary_cleaner(t))\n",
    "\n",
    "train_df['article']=cleaned_text\n",
    "train_df['highlights']=cleaned_summary\n",
    "train_df['highlights'].replace('', np.nan, inplace=True)\n",
    "train_df.dropna(axis=0,inplace=True)"
   ]
  },
  {
   "cell_type": "code",
   "execution_count": 20,
   "id": "631f17f5-9f7d-4b1f-8dbe-159e6b10cd90",
   "metadata": {},
   "outputs": [
    {
     "data": {
      "image/png": "[encoded data removed]",
      "text/plain": [
       "<Figure size 640x480 with 2 Axes>"
      ]
     },
     "metadata": {},
     "output_type": "display_data"
    }
   ],
   "source": [
    "import matplotlib.pyplot as plt\n",
    "text_word_count = []\n",
    "summary_word_count = []\n",
    "\n",
    "# populate the lists with sentence lengths\n",
    "for i in train_df['article']:\n",
    "      text_word_count.append(len(i.split()))\n",
    "\n",
    "for i in train_df['article']:\n",
    "      summary_word_count.append(len(i.split()))\n",
    "\n",
    "length_df = pd.DataFrame({'Article':text_word_count, 'Highlights':summary_word_count})\n",
    "length_df.hist(bins = 30)\n",
    "plt.show()"
   ]
  },
  {
   "cell_type": "code",
   "execution_count": 8,
   "id": "47aad96d-ac22-402f-8910-097b0f0c74c2",
   "metadata": {},
   "outputs": [
    {
     "data": {
      "text/html": [
       "<div>\n",
       "<style scoped>\n",
       "    .dataframe tbody tr th:only-of-type {\n",
       "        vertical-align: middle;\n",
       "    }\n",
       "\n",
       "    .dataframe tbody tr th {\n",
       "        vertical-align: top;\n",
       "    }\n",
       "\n",
       "    .dataframe thead th {\n",
       "        text-align: right;\n",
       "    }\n",
       "</style>\n",
       "<table border=\"1\" class=\"dataframe\">\n",
       "  <thead>\n",
       "    <tr style=\"text-align: right;\">\n",
       "      <th></th>\n",
       "      <th>article</th>\n",
       "      <th>highlights</th>\n",
       "    </tr>\n",
       "  </thead>\n",
       "  <tbody>\n",
       "    <tr>\n",
       "      <th>521</th>\n",
       "      <td>wayne rooney manchester united team mates celebrating sunday night beat liverpool move five points clear rivals race champions league football juan mata scored goals captain rooney took twitter co...</td>\n",
       "      <td>manchester united beat liverpool to move five points clear in th place juan mata scored twice while wayne rooney also missed penalty united captain rooney took to twitter to congratulate mata he a...</td>\n",
       "    </tr>\n",
       "    <tr>\n",
       "      <th>737</th>\n",
       "      <td>christopher higgs relationships four women defrauded order fund gambling addiction police officer jailed defrauded four vulnerable women tens thousands pounds order fund gambling addiction christo...</td>\n",
       "      <td>pc christopher higgs defrauded four women of in total defrauded victims to fund gambling addiction which cost him he emotionally blackmailed them by claiming to be depressed and suicidal when that...</td>\n",
       "    </tr>\n",
       "    <tr>\n",
       "      <th>740</th>\n",
       "      <td>school friends fire whole pantry founder belle gibson query whether health guru invented stories get sympathy warned people vaccination high school gibson spotlight week doubts raised remarkable c...</td>\n",
       "      <td>whole pantry founder belle gibson has come under fire this week after friends raised doubts about her cancer survival story and charity donations former school mates now query whether the drama qu...</td>\n",
       "    </tr>\n",
       "    <tr>\n",
       "      <th>660</th>\n",
       "      <td>target charles dickens victim attempted attack carriage charles dickens today venerated one england greatest ever literary heroes always treated respect newly rediscovered records reveal height fa...</td>\n",
       "      <td>the great novelist was the subject of an attempted highway robbery in when criminal tried to overturn his carriage dickens escaped harm because he had missed the train he usually took records unea...</td>\n",
       "    </tr>\n",
       "    <tr>\n",
       "      <th>411</th>\n",
       "      <td>may suffering effects dislocated shoulder golf legend arnold palmer vowed stop hitting ceremonial opening tee shot masters augusta next month year old speaking reporters trump doral resort opening...</td>\n",
       "      <td>four time masters winner suffered dislocated shoulder in december he has struck ceremonial opening tee shot at masters since doctors will not allow him to swing golf club yet he vows to be out on ...</td>\n",
       "    </tr>\n",
       "    <tr>\n",
       "      <th>...</th>\n",
       "      <td>...</td>\n",
       "      <td>...</td>\n",
       "    </tr>\n",
       "    <tr>\n",
       "      <th>436</th>\n",
       "      <td>home self declared baddest man planet scene many wild party derelict mansion still dripping gold marble set transformed church spacious home southington ohio owned heavyweight champion boxer mike ...</td>\n",
       "      <td>vast mansion in southington ohio was boxer home during the late and early it features mirrored ceiling jacuzzi and swimming pool twice the size of the average family home tyson was forced to sell ...</td>\n",
       "    </tr>\n",
       "    <tr>\n",
       "      <th>764</th>\n",
       "      <td>midwife sister christine lee within sentimental world sunday night television call midwife heroine jenny lee played gentle reserve actress jessica raine call midwife heroine jenny lee based real p...</td>\n",
       "      <td>jenny lee life was turned upside down when her parents divorced she became violent after her mother married bully called jock she turned to midwifery after being dismissed from nursing course jenn...</td>\n",
       "    </tr>\n",
       "    <tr>\n",
       "      <th>88</th>\n",
       "      <td>georgia state coach whose son led seed upset baylor ncaa men basketball tournament thursday teasing president barack obama picking team lose first round hope make better decisions presidency georg...</td>\n",
       "      <td>proud father ron hunter lost balance and fell off his stool after son rj hit three pointer with seconds left fourteen seed panthers beat three seed baylor in ncaa tournament hope you make better d...</td>\n",
       "    </tr>\n",
       "    <tr>\n",
       "      <th>63</th>\n",
       "      <td>floyd mayweather jnr continued preparations fight manny pacquiao may day two official training camp las vegas undefeated welterweight champion kept fans updated progress series pictures uploaded s...</td>\n",
       "      <td>floyd mayweather fights manny pacquiao in las vegas on may mayweather started his official training camp for the fight on monday undefeated champion continued preparations on tuesday mayweather sh...</td>\n",
       "    </tr>\n",
       "    <tr>\n",
       "      <th>826</th>\n",
       "      <td>jeremy clarkson future bbc decided next week report fracas producer handed director general clarkson suspended allegedly punching producer oisin tymon row filming hot meal yorkshire hotel top rati...</td>\n",
       "      <td>clarkson was suspended after allegedly punching producer oisin tymon the top rating show has been pulled off air while an inquiry is held bbc bosses put forward proposals for may and hammond to co...</td>\n",
       "    </tr>\n",
       "  </tbody>\n",
       "</table>\n",
       "<p>100 rows × 2 columns</p>\n",
       "</div>"
      ],
      "text/plain": [
       "                                                                                                                                                                                                     article  \\\n",
       "521  wayne rooney manchester united team mates celebrating sunday night beat liverpool move five points clear rivals race champions league football juan mata scored goals captain rooney took twitter co...   \n",
       "737  christopher higgs relationships four women defrauded order fund gambling addiction police officer jailed defrauded four vulnerable women tens thousands pounds order fund gambling addiction christo...   \n",
       "740  school friends fire whole pantry founder belle gibson query whether health guru invented stories get sympathy warned people vaccination high school gibson spotlight week doubts raised remarkable c...   \n",
       "660  target charles dickens victim attempted attack carriage charles dickens today venerated one england greatest ever literary heroes always treated respect newly rediscovered records reveal height fa...   \n",
       "411  may suffering effects dislocated shoulder golf legend arnold palmer vowed stop hitting ceremonial opening tee shot masters augusta next month year old speaking reporters trump doral resort opening...   \n",
       "..                                                                                                                                                                                                       ...   \n",
       "436  home self declared baddest man planet scene many wild party derelict mansion still dripping gold marble set transformed church spacious home southington ohio owned heavyweight champion boxer mike ...   \n",
       "764  midwife sister christine lee within sentimental world sunday night television call midwife heroine jenny lee played gentle reserve actress jessica raine call midwife heroine jenny lee based real p...   \n",
       "88   georgia state coach whose son led seed upset baylor ncaa men basketball tournament thursday teasing president barack obama picking team lose first round hope make better decisions presidency georg...   \n",
       "63   floyd mayweather jnr continued preparations fight manny pacquiao may day two official training camp las vegas undefeated welterweight champion kept fans updated progress series pictures uploaded s...   \n",
       "826  jeremy clarkson future bbc decided next week report fracas producer handed director general clarkson suspended allegedly punching producer oisin tymon row filming hot meal yorkshire hotel top rati...   \n",
       "\n",
       "                                                                                                                                                                                                  highlights  \n",
       "521  manchester united beat liverpool to move five points clear in th place juan mata scored twice while wayne rooney also missed penalty united captain rooney took to twitter to congratulate mata he a...  \n",
       "737  pc christopher higgs defrauded four women of in total defrauded victims to fund gambling addiction which cost him he emotionally blackmailed them by claiming to be depressed and suicidal when that...  \n",
       "740  whole pantry founder belle gibson has come under fire this week after friends raised doubts about her cancer survival story and charity donations former school mates now query whether the drama qu...  \n",
       "660  the great novelist was the subject of an attempted highway robbery in when criminal tried to overturn his carriage dickens escaped harm because he had missed the train he usually took records unea...  \n",
       "411  four time masters winner suffered dislocated shoulder in december he has struck ceremonial opening tee shot at masters since doctors will not allow him to swing golf club yet he vows to be out on ...  \n",
       "..                                                                                                                                                                                                       ...  \n",
       "436  vast mansion in southington ohio was boxer home during the late and early it features mirrored ceiling jacuzzi and swimming pool twice the size of the average family home tyson was forced to sell ...  \n",
       "764  jenny lee life was turned upside down when her parents divorced she became violent after her mother married bully called jock she turned to midwifery after being dismissed from nursing course jenn...  \n",
       "88   proud father ron hunter lost balance and fell off his stool after son rj hit three pointer with seconds left fourteen seed panthers beat three seed baylor in ncaa tournament hope you make better d...  \n",
       "63   floyd mayweather fights manny pacquiao in las vegas on may mayweather started his official training camp for the fight on monday undefeated champion continued preparations on tuesday mayweather sh...  \n",
       "826  clarkson was suspended after allegedly punching producer oisin tymon the top rating show has been pulled off air while an inquiry is held bbc bosses put forward proposals for may and hammond to co...  \n",
       "\n",
       "[100 rows x 2 columns]"
      ]
     },
     "execution_count": 8,
     "metadata": {},
     "output_type": "execute_result"
    }
   ],
   "source": [
    "from sklearn.utils import shuffle\n",
    "train_df_shuffled = shuffle(train_df, random_state=42)  # random_state for reproducibility\n",
    "subset_size = int(0.1 * len(train_df_shuffled)) # take 0.25 of data length\n",
    "train_df = train_df_shuffled.iloc[:subset_size]\n",
    "train_df"
   ]
  },
  {
   "cell_type": "code",
   "execution_count": 9,
   "id": "a3d381b4-1013-4fe3-a8c7-6de23887a1af",
   "metadata": {},
   "outputs": [
    {
     "data": {
      "text/html": [
       "<div>\n",
       "<style scoped>\n",
       "    .dataframe tbody tr th:only-of-type {\n",
       "        vertical-align: middle;\n",
       "    }\n",
       "\n",
       "    .dataframe tbody tr th {\n",
       "        vertical-align: top;\n",
       "    }\n",
       "\n",
       "    .dataframe thead th {\n",
       "        text-align: right;\n",
       "    }\n",
       "</style>\n",
       "<table border=\"1\" class=\"dataframe\">\n",
       "  <thead>\n",
       "    <tr style=\"text-align: right;\">\n",
       "      <th></th>\n",
       "      <th>article</th>\n",
       "      <th>highlights</th>\n",
       "    </tr>\n",
       "  </thead>\n",
       "  <tbody>\n",
       "    <tr>\n",
       "      <th>521</th>\n",
       "      <td>wayne rooney manchester united team mates celebrating sunday night beat liverpool move five points clear rivals race champions league football juan mata scored goals captain rooney took twitter co...</td>\n",
       "      <td>manchester united beat liverpool to move five points clear in th place juan mata scored twice while wayne rooney also missed penalty united captain rooney took to twitter to congratulate mata he a...</td>\n",
       "    </tr>\n",
       "    <tr>\n",
       "      <th>737</th>\n",
       "      <td>christopher higgs relationships four women defrauded order fund gambling addiction police officer jailed defrauded four vulnerable women tens thousands pounds order fund gambling addiction christo...</td>\n",
       "      <td>pc christopher higgs defrauded four women of in total defrauded victims to fund gambling addiction which cost him he emotionally blackmailed them by claiming to be depressed and suicidal when that...</td>\n",
       "    </tr>\n",
       "    <tr>\n",
       "      <th>740</th>\n",
       "      <td>school friends fire whole pantry founder belle gibson query whether health guru invented stories get sympathy warned people vaccination high school gibson spotlight week doubts raised remarkable c...</td>\n",
       "      <td>whole pantry founder belle gibson has come under fire this week after friends raised doubts about her cancer survival story and charity donations former school mates now query whether the drama qu...</td>\n",
       "    </tr>\n",
       "    <tr>\n",
       "      <th>660</th>\n",
       "      <td>target charles dickens victim attempted attack carriage charles dickens today venerated one england greatest ever literary heroes always treated respect newly rediscovered records reveal height fa...</td>\n",
       "      <td>the great novelist was the subject of an attempted highway robbery in when criminal tried to overturn his carriage dickens escaped harm because he had missed the train he usually took records unea...</td>\n",
       "    </tr>\n",
       "    <tr>\n",
       "      <th>411</th>\n",
       "      <td>may suffering effects dislocated shoulder golf legend arnold palmer vowed stop hitting ceremonial opening tee shot masters augusta next month year old speaking reporters trump doral resort opening...</td>\n",
       "      <td>four time masters winner suffered dislocated shoulder in december he has struck ceremonial opening tee shot at masters since doctors will not allow him to swing golf club yet he vows to be out on ...</td>\n",
       "    </tr>\n",
       "    <tr>\n",
       "      <th>...</th>\n",
       "      <td>...</td>\n",
       "      <td>...</td>\n",
       "    </tr>\n",
       "    <tr>\n",
       "      <th>436</th>\n",
       "      <td>home self declared baddest man planet scene many wild party derelict mansion still dripping gold marble set transformed church spacious home southington ohio owned heavyweight champion boxer mike ...</td>\n",
       "      <td>vast mansion in southington ohio was boxer home during the late and early it features mirrored ceiling jacuzzi and swimming pool twice the size of the average family home tyson was forced to sell ...</td>\n",
       "    </tr>\n",
       "    <tr>\n",
       "      <th>764</th>\n",
       "      <td>midwife sister christine lee within sentimental world sunday night television call midwife heroine jenny lee played gentle reserve actress jessica raine call midwife heroine jenny lee based real p...</td>\n",
       "      <td>jenny lee life was turned upside down when her parents divorced she became violent after her mother married bully called jock she turned to midwifery after being dismissed from nursing course jenn...</td>\n",
       "    </tr>\n",
       "    <tr>\n",
       "      <th>88</th>\n",
       "      <td>georgia state coach whose son led seed upset baylor ncaa men basketball tournament thursday teasing president barack obama picking team lose first round hope make better decisions presidency georg...</td>\n",
       "      <td>proud father ron hunter lost balance and fell off his stool after son rj hit three pointer with seconds left fourteen seed panthers beat three seed baylor in ncaa tournament hope you make better d...</td>\n",
       "    </tr>\n",
       "    <tr>\n",
       "      <th>63</th>\n",
       "      <td>floyd mayweather jnr continued preparations fight manny pacquiao may day two official training camp las vegas undefeated welterweight champion kept fans updated progress series pictures uploaded s...</td>\n",
       "      <td>floyd mayweather fights manny pacquiao in las vegas on may mayweather started his official training camp for the fight on monday undefeated champion continued preparations on tuesday mayweather sh...</td>\n",
       "    </tr>\n",
       "    <tr>\n",
       "      <th>826</th>\n",
       "      <td>jeremy clarkson future bbc decided next week report fracas producer handed director general clarkson suspended allegedly punching producer oisin tymon row filming hot meal yorkshire hotel top rati...</td>\n",
       "      <td>clarkson was suspended after allegedly punching producer oisin tymon the top rating show has been pulled off air while an inquiry is held bbc bosses put forward proposals for may and hammond to co...</td>\n",
       "    </tr>\n",
       "  </tbody>\n",
       "</table>\n",
       "<p>100 rows × 2 columns</p>\n",
       "</div>"
      ],
      "text/plain": [
       "                                                                                                                                                                                                     article  \\\n",
       "521  wayne rooney manchester united team mates celebrating sunday night beat liverpool move five points clear rivals race champions league football juan mata scored goals captain rooney took twitter co...   \n",
       "737  christopher higgs relationships four women defrauded order fund gambling addiction police officer jailed defrauded four vulnerable women tens thousands pounds order fund gambling addiction christo...   \n",
       "740  school friends fire whole pantry founder belle gibson query whether health guru invented stories get sympathy warned people vaccination high school gibson spotlight week doubts raised remarkable c...   \n",
       "660  target charles dickens victim attempted attack carriage charles dickens today venerated one england greatest ever literary heroes always treated respect newly rediscovered records reveal height fa...   \n",
       "411  may suffering effects dislocated shoulder golf legend arnold palmer vowed stop hitting ceremonial opening tee shot masters augusta next month year old speaking reporters trump doral resort opening...   \n",
       "..                                                                                                                                                                                                       ...   \n",
       "436  home self declared baddest man planet scene many wild party derelict mansion still dripping gold marble set transformed church spacious home southington ohio owned heavyweight champion boxer mike ...   \n",
       "764  midwife sister christine lee within sentimental world sunday night television call midwife heroine jenny lee played gentle reserve actress jessica raine call midwife heroine jenny lee based real p...   \n",
       "88   georgia state coach whose son led seed upset baylor ncaa men basketball tournament thursday teasing president barack obama picking team lose first round hope make better decisions presidency georg...   \n",
       "63   floyd mayweather jnr continued preparations fight manny pacquiao may day two official training camp las vegas undefeated welterweight champion kept fans updated progress series pictures uploaded s...   \n",
       "826  jeremy clarkson future bbc decided next week report fracas producer handed director general clarkson suspended allegedly punching producer oisin tymon row filming hot meal yorkshire hotel top rati...   \n",
       "\n",
       "                                                                                                                                                                                                  highlights  \n",
       "521  manchester united beat liverpool to move five points clear in th place juan mata scored twice while wayne rooney also missed penalty united captain rooney took to twitter to congratulate mata he a...  \n",
       "737  pc christopher higgs defrauded four women of in total defrauded victims to fund gambling addiction which cost him he emotionally blackmailed them by claiming to be depressed and suicidal when that...  \n",
       "740  whole pantry founder belle gibson has come under fire this week after friends raised doubts about her cancer survival story and charity donations former school mates now query whether the drama qu...  \n",
       "660  the great novelist was the subject of an attempted highway robbery in when criminal tried to overturn his carriage dickens escaped harm because he had missed the train he usually took records unea...  \n",
       "411  four time masters winner suffered dislocated shoulder in december he has struck ceremonial opening tee shot at masters since doctors will not allow him to swing golf club yet he vows to be out on ...  \n",
       "..                                                                                                                                                                                                       ...  \n",
       "436  vast mansion in southington ohio was boxer home during the late and early it features mirrored ceiling jacuzzi and swimming pool twice the size of the average family home tyson was forced to sell ...  \n",
       "764  jenny lee life was turned upside down when her parents divorced she became violent after her mother married bully called jock she turned to midwifery after being dismissed from nursing course jenn...  \n",
       "88   proud father ron hunter lost balance and fell off his stool after son rj hit three pointer with seconds left fourteen seed panthers beat three seed baylor in ncaa tournament hope you make better d...  \n",
       "63   floyd mayweather fights manny pacquiao in las vegas on may mayweather started his official training camp for the fight on monday undefeated champion continued preparations on tuesday mayweather sh...  \n",
       "826  clarkson was suspended after allegedly punching producer oisin tymon the top rating show has been pulled off air while an inquiry is held bbc bosses put forward proposals for may and hammond to co...  \n",
       "\n",
       "[100 rows x 2 columns]"
      ]
     },
     "execution_count": 9,
     "metadata": {},
     "output_type": "execute_result"
    }
   ],
   "source": [
    "train_df"
   ]
  },
  {
   "cell_type": "code",
   "execution_count": 11,
   "id": "bba318ab-720e-4b5d-8d9c-4a29538f9520",
   "metadata": {},
   "outputs": [
    {
     "data": {
      "text/html": [
       "<div>\n",
       "<style scoped>\n",
       "    .dataframe tbody tr th:only-of-type {\n",
       "        vertical-align: middle;\n",
       "    }\n",
       "\n",
       "    .dataframe tbody tr th {\n",
       "        vertical-align: top;\n",
       "    }\n",
       "\n",
       "    .dataframe thead th {\n",
       "        text-align: right;\n",
       "    }\n",
       "</style>\n",
       "<table border=\"1\" class=\"dataframe\">\n",
       "  <thead>\n",
       "    <tr style=\"text-align: right;\">\n",
       "      <th></th>\n",
       "      <th>article</th>\n",
       "      <th>highlights</th>\n",
       "    </tr>\n",
       "  </thead>\n",
       "  <tbody>\n",
       "    <tr>\n",
       "      <th>521</th>\n",
       "      <td>wayne rooney manchester united team mates celebrating sunday night beat liverpool move five points clear rivals race champions league football juan mata scored goals captain rooney took twitter co...</td>\n",
       "      <td>manchester united beat liverpool to move five points clear in th place juan mata scored twice while wayne rooney also missed penalty united captain rooney took to twitter to congratulate mata he a...</td>\n",
       "    </tr>\n",
       "    <tr>\n",
       "      <th>737</th>\n",
       "      <td>christopher higgs relationships four women defrauded order fund gambling addiction police officer jailed defrauded four vulnerable women tens thousands pounds order fund gambling addiction christo...</td>\n",
       "      <td>pc christopher higgs defrauded four women of in total defrauded victims to fund gambling addiction which cost him he emotionally blackmailed them by claiming to be depressed and suicidal when that...</td>\n",
       "    </tr>\n",
       "    <tr>\n",
       "      <th>740</th>\n",
       "      <td>school friends fire whole pantry founder belle gibson query whether health guru invented stories get sympathy warned people vaccination high school gibson spotlight week doubts raised remarkable c...</td>\n",
       "      <td>whole pantry founder belle gibson has come under fire this week after friends raised doubts about her cancer survival story and charity donations former school mates now query whether the drama qu...</td>\n",
       "    </tr>\n",
       "    <tr>\n",
       "      <th>660</th>\n",
       "      <td>target charles dickens victim attempted attack carriage charles dickens today venerated one england greatest ever literary heroes always treated respect newly rediscovered records reveal height fa...</td>\n",
       "      <td>the great novelist was the subject of an attempted highway robbery in when criminal tried to overturn his carriage dickens escaped harm because he had missed the train he usually took records unea...</td>\n",
       "    </tr>\n",
       "    <tr>\n",
       "      <th>411</th>\n",
       "      <td>may suffering effects dislocated shoulder golf legend arnold palmer vowed stop hitting ceremonial opening tee shot masters augusta next month year old speaking reporters trump doral resort opening...</td>\n",
       "      <td>four time masters winner suffered dislocated shoulder in december he has struck ceremonial opening tee shot at masters since doctors will not allow him to swing golf club yet he vows to be out on ...</td>\n",
       "    </tr>\n",
       "    <tr>\n",
       "      <th>...</th>\n",
       "      <td>...</td>\n",
       "      <td>...</td>\n",
       "    </tr>\n",
       "    <tr>\n",
       "      <th>436</th>\n",
       "      <td>home self declared baddest man planet scene many wild party derelict mansion still dripping gold marble set transformed church spacious home southington ohio owned heavyweight champion boxer mike ...</td>\n",
       "      <td>vast mansion in southington ohio was boxer home during the late and early it features mirrored ceiling jacuzzi and swimming pool twice the size of the average family home tyson was forced to sell ...</td>\n",
       "    </tr>\n",
       "    <tr>\n",
       "      <th>764</th>\n",
       "      <td>midwife sister christine lee within sentimental world sunday night television call midwife heroine jenny lee played gentle reserve actress jessica raine call midwife heroine jenny lee based real p...</td>\n",
       "      <td>jenny lee life was turned upside down when her parents divorced she became violent after her mother married bully called jock she turned to midwifery after being dismissed from nursing course jenn...</td>\n",
       "    </tr>\n",
       "    <tr>\n",
       "      <th>88</th>\n",
       "      <td>georgia state coach whose son led seed upset baylor ncaa men basketball tournament thursday teasing president barack obama picking team lose first round hope make better decisions presidency georg...</td>\n",
       "      <td>proud father ron hunter lost balance and fell off his stool after son rj hit three pointer with seconds left fourteen seed panthers beat three seed baylor in ncaa tournament hope you make better d...</td>\n",
       "    </tr>\n",
       "    <tr>\n",
       "      <th>63</th>\n",
       "      <td>floyd mayweather jnr continued preparations fight manny pacquiao may day two official training camp las vegas undefeated welterweight champion kept fans updated progress series pictures uploaded s...</td>\n",
       "      <td>floyd mayweather fights manny pacquiao in las vegas on may mayweather started his official training camp for the fight on monday undefeated champion continued preparations on tuesday mayweather sh...</td>\n",
       "    </tr>\n",
       "    <tr>\n",
       "      <th>826</th>\n",
       "      <td>jeremy clarkson future bbc decided next week report fracas producer handed director general clarkson suspended allegedly punching producer oisin tymon row filming hot meal yorkshire hotel top rati...</td>\n",
       "      <td>clarkson was suspended after allegedly punching producer oisin tymon the top rating show has been pulled off air while an inquiry is held bbc bosses put forward proposals for may and hammond to co...</td>\n",
       "    </tr>\n",
       "  </tbody>\n",
       "</table>\n",
       "<p>100 rows × 2 columns</p>\n",
       "</div>"
      ],
      "text/plain": [
       "                                                                                                                                                                                                     article  \\\n",
       "521  wayne rooney manchester united team mates celebrating sunday night beat liverpool move five points clear rivals race champions league football juan mata scored goals captain rooney took twitter co...   \n",
       "737  christopher higgs relationships four women defrauded order fund gambling addiction police officer jailed defrauded four vulnerable women tens thousands pounds order fund gambling addiction christo...   \n",
       "740  school friends fire whole pantry founder belle gibson query whether health guru invented stories get sympathy warned people vaccination high school gibson spotlight week doubts raised remarkable c...   \n",
       "660  target charles dickens victim attempted attack carriage charles dickens today venerated one england greatest ever literary heroes always treated respect newly rediscovered records reveal height fa...   \n",
       "411  may suffering effects dislocated shoulder golf legend arnold palmer vowed stop hitting ceremonial opening tee shot masters augusta next month year old speaking reporters trump doral resort opening...   \n",
       "..                                                                                                                                                                                                       ...   \n",
       "436  home self declared baddest man planet scene many wild party derelict mansion still dripping gold marble set transformed church spacious home southington ohio owned heavyweight champion boxer mike ...   \n",
       "764  midwife sister christine lee within sentimental world sunday night television call midwife heroine jenny lee played gentle reserve actress jessica raine call midwife heroine jenny lee based real p...   \n",
       "88   georgia state coach whose son led seed upset baylor ncaa men basketball tournament thursday teasing president barack obama picking team lose first round hope make better decisions presidency georg...   \n",
       "63   floyd mayweather jnr continued preparations fight manny pacquiao may day two official training camp las vegas undefeated welterweight champion kept fans updated progress series pictures uploaded s...   \n",
       "826  jeremy clarkson future bbc decided next week report fracas producer handed director general clarkson suspended allegedly punching producer oisin tymon row filming hot meal yorkshire hotel top rati...   \n",
       "\n",
       "                                                                                                                                                                                                  highlights  \n",
       "521  manchester united beat liverpool to move five points clear in th place juan mata scored twice while wayne rooney also missed penalty united captain rooney took to twitter to congratulate mata he a...  \n",
       "737  pc christopher higgs defrauded four women of in total defrauded victims to fund gambling addiction which cost him he emotionally blackmailed them by claiming to be depressed and suicidal when that...  \n",
       "740  whole pantry founder belle gibson has come under fire this week after friends raised doubts about her cancer survival story and charity donations former school mates now query whether the drama qu...  \n",
       "660  the great novelist was the subject of an attempted highway robbery in when criminal tried to overturn his carriage dickens escaped harm because he had missed the train he usually took records unea...  \n",
       "411  four time masters winner suffered dislocated shoulder in december he has struck ceremonial opening tee shot at masters since doctors will not allow him to swing golf club yet he vows to be out on ...  \n",
       "..                                                                                                                                                                                                       ...  \n",
       "436  vast mansion in southington ohio was boxer home during the late and early it features mirrored ceiling jacuzzi and swimming pool twice the size of the average family home tyson was forced to sell ...  \n",
       "764  jenny lee life was turned upside down when her parents divorced she became violent after her mother married bully called jock she turned to midwifery after being dismissed from nursing course jenn...  \n",
       "88   proud father ron hunter lost balance and fell off his stool after son rj hit three pointer with seconds left fourteen seed panthers beat three seed baylor in ncaa tournament hope you make better d...  \n",
       "63   floyd mayweather fights manny pacquiao in las vegas on may mayweather started his official training camp for the fight on monday undefeated champion continued preparations on tuesday mayweather sh...  \n",
       "826  clarkson was suspended after allegedly punching producer oisin tymon the top rating show has been pulled off air while an inquiry is held bbc bosses put forward proposals for may and hammond to co...  \n",
       "\n",
       "[100 rows x 2 columns]"
      ]
     },
     "execution_count": 11,
     "metadata": {},
     "output_type": "execute_result"
    }
   ],
   "source": [
    "new_train_df = train_df[:2000]\n",
    "new_train_df"
   ]
  },
  {
   "cell_type": "code",
   "execution_count": 50,
   "id": "bce14c12-50fa-4c04-ba46-cd524ba06940",
   "metadata": {},
   "outputs": [],
   "source": [
    "new_train_df['highlights'] = new_train_df['highlights'].apply(lambda x: '<Start>' + ' ' + x + ' ' + '<END>')"
   ]
  },
  {
   "cell_type": "code",
   "execution_count": 52,
   "id": "66ee1af6-afd5-4950-b78b-a943adb01daf",
   "metadata": {},
   "outputs": [],
   "source": [
    "X = new_train_df['article'].values\n",
    "y = new_train_df['highlights'].values"
   ]
  },
  {
   "cell_type": "code",
   "execution_count": 54,
   "id": "3afff24b-ddaa-4475-bb52-73063d928239",
   "metadata": {},
   "outputs": [],
   "source": [
    "from tensorflow.keras.preprocessing.sequence import pad_sequences\n",
    "from tensorflow.keras.preprocessing.text import Tokenizer"
   ]
  },
  {
   "cell_type": "code",
   "execution_count": 55,
   "id": "9cb4bd29-4140-4db6-a1aa-22f0185a22f6",
   "metadata": {},
   "outputs": [],
   "source": [
    "\n",
    "atricle_tokenizer = Tokenizer(num_words=2000, oov_token=\"<unk>\")\n",
    "atricle_tokenizer.fit_on_texts(X)\n",
    "input_sequences = atricle_tokenizer.texts_to_sequences(X)\n",
    "\n",
    "# View the tokenized articles\n",
    "# print(\"Word Index: \", atricle_tokenizer.word_index)  # The word-index mapping\n",
    "# print(\"Sequences: \", input_sequences[:3])  # The tokenized form (sequence of word indices)"
   ]
  },
  {
   "cell_type": "code",
   "execution_count": 56,
   "id": "ea5b3317-75f3-48de-bbb3-e764277ee23e",
   "metadata": {},
   "outputs": [],
   "source": [
    "\n",
    "highlights_tokenizer = Tokenizer(num_words=2000, oov_token=\"<unk>\")\n",
    "highlights_tokenizer.fit_on_texts(y)\n",
    "output_sequences = highlights_tokenizer.texts_to_sequences(y)\n",
    "\n",
    "# View the tokenized articles\n",
    "# print(\"Word Index: \", highlights_tokenizer.word_index)  # The word-index mapping\n",
    "# print(\"Sequences: \", input_sequences[:3])  # The tokenized form (sequence of word indices)"
   ]
  },
  {
   "cell_type": "code",
   "execution_count": 57,
   "id": "8624504c-9220-4d8a-9c39-afbce3003777",
   "metadata": {},
   "outputs": [],
   "source": [
    "max_article_len = max(len(i) for i in X)\n",
    "max_summary_len = max(len(i) for i in y)\n",
    "encoder_input_size = len(atricle_tokenizer.word_index) + 1\n",
    "decoder_input_size = len(highlights_tokenizer.word_index) + 1\n"
   ]
  },
  {
   "cell_type": "code",
   "execution_count": 58,
   "id": "c0490f6d-a558-41da-9d0b-dcc684131b80",
   "metadata": {},
   "outputs": [
    {
     "name": "stdout",
     "output_type": "stream",
     "text": [
      "(2000,)\n"
     ]
    }
   ],
   "source": [
    "# Pad the sequences\n",
    "max_vocab_size_en = 2000  \n",
    "X_padded = pad_sequences(input_sequences, maxlen=2000)\n",
    "print(X_padded[0].shape)"
   ]
  },
  {
   "cell_type": "code",
   "execution_count": 59,
   "id": "05a86ec5-c432-4c34-b6e9-d30c934aac31",
   "metadata": {},
   "outputs": [
    {
     "name": "stdout",
     "output_type": "stream",
     "text": [
      "(1660,)\n"
     ]
    }
   ],
   "source": [
    "# Pad the sequences\n",
    "# max_vocab_size = 200\n",
    "y_padded = pad_sequences(output_sequences, maxlen=max_summary_len)\n",
    "print(y_padded[0].shape)\n"
   ]
  },
  {
   "cell_type": "code",
   "execution_count": 60,
   "id": "54b4a497-609f-472e-a300-b844bd0df2f4",
   "metadata": {},
   "outputs": [],
   "source": [
    "#Importing\n",
    "from keras.layers import LSTM, Input, TimeDistributed, Dense, Activation, RepeatVector, Embedding, LayerNormalization, MultiHeadAttention, Add, Bidirectional, Concatenate\n",
    "from tensorflow.keras.models import Sequential\n",
    "from tensorflow.keras.preprocessing.text import one_hot\n",
    "from keras.callbacks import EarlyStopping\n",
    "from tensorflow import keras\n",
    "from tensorflow.keras import layers\n",
    "from tensorflow.keras.models import Model"
   ]
  },
  {
   "cell_type": "code",
   "execution_count": 61,
   "id": "cfea1d8c-869d-4961-b60d-b1ee3e6a4182",
   "metadata": {},
   "outputs": [],
   "source": [
    "from sklearn.model_selection import train_test_split\n",
    "\n",
    "padded_train_sequences_en, padded_val_sequences_en, padded_train_sequences_de, padded_val_sequences_de = train_test_split(\n",
    "    X_padded,\n",
    "    y_padded,\n",
    "    test_size=0.2,\n",
    "    random_state=42\n",
    ")"
   ]
  },
  {
   "cell_type": "code",
   "execution_count": 62,
   "id": "fff2b1bd-dfce-48b1-a6ba-3937d5bff7ed",
   "metadata": {
    "jupyter": {
     "source_hidden": true
    }
   },
   "outputs": [
    {
     "name": "stdout",
     "output_type": "stream",
     "text": [
      "(80, 2000)\n",
      "(80, 1660)\n",
      "(20, 2000)\n",
      "(20, 1660)\n"
     ]
    }
   ],
   "source": [
    "print(padded_train_sequences_en.shape)  # Should be (num_samples, 1000)\n",
    "print(padded_train_sequences_de.shape)  # Should be (num_samples, 1000)\n",
    "print(padded_val_sequences_en.shape)     # Should be (num_samples, 1000)\n",
    "print(padded_val_sequences_de.shape)     # Should be (num_samples, 1000)\n"
   ]
  },
  {
   "cell_type": "code",
   "execution_count": 63,
   "id": "5237f795-9949-4cff-8e80-f1d0e4d0f1b9",
   "metadata": {},
   "outputs": [
    {
     "name": "stdout",
     "output_type": "stream",
     "text": [
      "Model: \"model_1\"\n",
      "__________________________________________________________________________________________________\n",
      " Layer (type)                Output Shape                 Param #   Connected to                  \n",
      "==================================================================================================\n",
      " input_3 (InputLayer)        [(None, 2000)]               0         []                            \n",
      "                                                                                                  \n",
      " input_4 (InputLayer)        [(None, 1660)]               0         []                            \n",
      "                                                                                                  \n",
      " embedding_2 (Embedding)     (None, 2000, 128)            1368832   ['input_3[0][0]']             \n",
      "                                                                                                  \n",
      " embedding_3 (Embedding)     (None, 1660, 128)            296832    ['input_4[0][0]']             \n",
      "                                                                                                  \n",
      " bidirectional_1 (Bidirecti  (None, 2000, 128)            98816     ['embedding_2[0][0]']         \n",
      " onal)                                                                                            \n",
      "                                                                                                  \n",
      " lstm_3 (LSTM)               (None, 1660, 128)            131584    ['embedding_3[0][0]']         \n",
      "                                                                                                  \n",
      " dense_2 (Dense)             (None, 2000, 128)            16512     ['bidirectional_1[0][0]']     \n",
      "                                                                                                  \n",
      " multi_head_attention_1 (Mu  ((None, 1660, 128),          66048     ['lstm_3[0][0]',              \n",
      " ltiHeadAttention)            (None, 1, 1660, 2000))                 'dense_2[0][0]']             \n",
      "                                                                                                  \n",
      " add_1 (Add)                 (None, 1660, 128)            0         ['lstm_3[0][0]',              \n",
      "                                                                     'multi_head_attention_1[0][0]\n",
      "                                                                    ']                            \n",
      "                                                                                                  \n",
      " layer_normalization_1 (Lay  (None, 1660, 128)            256       ['add_1[0][0]']               \n",
      " erNormalization)                                                                                 \n",
      "                                                                                                  \n",
      " dense_3 (Dense)             (None, 1660, 2319)           299151    ['layer_normalization_1[0][0]'\n",
      "                                                                    ]                             \n",
      "                                                                                                  \n",
      "==================================================================================================\n",
      "Total params: 2278031 (8.69 MB)\n",
      "Trainable params: 2278031 (8.69 MB)\n",
      "Non-trainable params: 0 (0.00 Byte)\n",
      "__________________________________________________________________________________________________\n"
     ]
    }
   ],
   "source": [
    "UNITS = 128\n",
    "MAX_LEN = 200\n",
    "# encoder_input_size = 2000  \n",
    "# decoder_input_size = 2000  \n",
    "\n",
    "# Encoder\n",
    "encoder_inputs = Input(shape=(2000,))\n",
    "x = Embedding(encoder_input_size, UNITS)(encoder_inputs)\n",
    "encoder_outputs = Bidirectional(LSTM(UNITS//2, return_sequences=True, dropout=0.2))(x)\n",
    "\n",
    "# Use a Dense layer to match the dimensions for attention\n",
    "encoder_outputs = Dense(UNITS)(encoder_outputs)\n",
    "\n",
    "# Decoder\n",
    "decoder_inputs = Input(shape=(max_summary_len,))\n",
    "decoder_embeddings = Embedding(decoder_input_size, UNITS)(decoder_inputs)\n",
    "x = LSTM(UNITS, return_sequences=True, dropout=0.2)(decoder_embeddings)\n",
    "\n",
    "# Attention\n",
    "attention = MultiHeadAttention(num_heads=1, key_dim=UNITS, dropout=0.2)\n",
    "attention_output, attention_scores = attention(query=x, value=encoder_outputs, return_attention_scores=True)\n",
    "\n",
    "# Add & Normalize\n",
    "add = Add()\n",
    "normalization = LayerNormalization()\n",
    "\n",
    "attention_seq = add([x, attention_output])\n",
    "attention_seq = normalization(attention_seq)\n",
    "\n",
    "# Define the output\n",
    "decoder_outputs = Dense(decoder_input_size, activation='softmax')(attention_seq)\n",
    "\n",
    "# Create the model\n",
    "model = Model(inputs=[encoder_inputs, decoder_inputs], outputs=decoder_outputs)\n",
    "model.summary()"
   ]
  },
  {
   "cell_type": "code",
   "execution_count": 64,
   "id": "3ef97921-ebdb-4f0b-bd6e-b94bad105439",
   "metadata": {},
   "outputs": [],
   "source": [
    "model.compile(optimizer='adam',  loss='sparse_categorical_crossentropy', metrics=[\"accuracy\"])"
   ]
  },
  {
   "cell_type": "code",
   "execution_count": 65,
   "id": "87a5cc34-930d-4bd4-985f-086417bf14db",
   "metadata": {},
   "outputs": [
    {
     "name": "stdout",
     "output_type": "stream",
     "text": [
      "Epoch 1/5\n",
      "3/3 [==============================] - 5s 749ms/step - loss: 7.0802 - accuracy: 0.5813 - val_loss: 5.2481 - val_accuracy: 0.9625\n",
      "Epoch 2/5\n",
      "3/3 [==============================] - 2s 503ms/step - loss: 4.8246 - accuracy: 0.9683 - val_loss: 3.9432 - val_accuracy: 0.9625\n",
      "Epoch 3/5\n",
      "3/3 [==============================] - 2s 506ms/step - loss: 3.6807 - accuracy: 0.9683 - val_loss: 3.1056 - val_accuracy: 0.9625\n",
      "Epoch 4/5\n",
      "3/3 [==============================] - 2s 500ms/step - loss: 2.8959 - accuracy: 0.9683 - val_loss: 2.4300 - val_accuracy: 0.9625\n",
      "Epoch 5/5\n",
      "3/3 [==============================] - 2s 508ms/step - loss: 2.2299 - accuracy: 0.9683 - val_loss: 1.8209 - val_accuracy: 0.9625\n"
     ]
    }
   ],
   "source": [
    "history = model.fit([padded_train_sequences_en, padded_train_sequences_de],\n",
    "                    padded_train_sequences_de,\n",
    "          batch_size=32,\n",
    "          epochs=5,\n",
    "          validation_data=([padded_val_sequences_en, padded_val_sequences_de], padded_val_sequences_de)\n",
    "          )"
   ]
  },
  {
   "cell_type": "code",
   "execution_count": 66,
   "id": "3b4fa1db-12af-4091-a43d-772868eae85b",
   "metadata": {},
   "outputs": [
    {
     "data": {
      "text/plain": [
       "<matplotlib.legend.Legend at 0x7f6e07fc0340>"
      ]
     },
     "execution_count": 66,
     "metadata": {},
     "output_type": "execute_result"
    },
    {
     "data": {
      "image/png": "[encoded data removed]",
      "text/plain": [
       "<Figure size 640x480 with 2 Axes>"
      ]
     },
     "metadata": {},
     "output_type": "display_data"
    }
   ],
   "source": [
    "import matplotlib.pyplot as plt\n",
    "plt.subplot(1, 2, 1)\n",
    "plt.plot(history.history['loss'], label='loss')\n",
    "plt.plot(history.history['val_loss'], label='val_loss')\n",
    "plt.ylim([0, max(plt.ylim())])\n",
    "plt.xlabel('Epoch #')\n",
    "plt.ylabel('Loss')\n",
    "plt.legend()\n",
    "\n",
    "plt.subplot(1, 2, 2)\n",
    "plt.plot(history.history['accuracy'], label='accuracy')\n",
    "plt.plot(history.history['val_accuracy'], label='val_accuracy')\n",
    "plt.ylim([0, 1])\n",
    "plt.xlabel('Epoch #')\n",
    "plt.ylabel('Accuracy')\n",
    "plt.legend()"
   ]
  },
  {
   "cell_type": "code",
   "execution_count": 67,
   "id": "b7a75a71-6318-4643-b591-365b59771554",
   "metadata": {},
   "outputs": [
    {
     "data": {
      "text/html": [
       "<div>\n",
       "<style scoped>\n",
       "    .dataframe tbody tr th:only-of-type {\n",
       "        vertical-align: middle;\n",
       "    }\n",
       "\n",
       "    .dataframe tbody tr th {\n",
       "        vertical-align: top;\n",
       "    }\n",
       "\n",
       "    .dataframe thead th {\n",
       "        text-align: right;\n",
       "    }\n",
       "</style>\n",
       "<table border=\"1\" class=\"dataframe\">\n",
       "  <thead>\n",
       "    <tr style=\"text-align: right;\">\n",
       "      <th></th>\n",
       "      <th>article</th>\n",
       "      <th>highlights</th>\n",
       "    </tr>\n",
       "  </thead>\n",
       "  <tbody>\n",
       "    <tr>\n",
       "      <th>0</th>\n",
       "      <td>Ever noticed how plane seats appear to be gett...</td>\n",
       "      <td>Experts question if  packed out planes are put...</td>\n",
       "    </tr>\n",
       "    <tr>\n",
       "      <th>1</th>\n",
       "      <td>A drunk teenage boy had to be rescued by secur...</td>\n",
       "      <td>Drunk teenage boy climbed into lion enclosure ...</td>\n",
       "    </tr>\n",
       "    <tr>\n",
       "      <th>2</th>\n",
       "      <td>Dougie Freedman is on the verge of agreeing a ...</td>\n",
       "      <td>Nottingham Forest are close to extending Dougi...</td>\n",
       "    </tr>\n",
       "    <tr>\n",
       "      <th>3</th>\n",
       "      <td>Liverpool target Neto is also wanted by PSG an...</td>\n",
       "      <td>Fiorentina goalkeeper Neto has been linked wit...</td>\n",
       "    </tr>\n",
       "    <tr>\n",
       "      <th>4</th>\n",
       "      <td>Bruce Jenner will break his silence in a two-h...</td>\n",
       "      <td>Tell-all interview with the reality TV star, 6...</td>\n",
       "    </tr>\n",
       "    <tr>\n",
       "      <th>...</th>\n",
       "      <td>...</td>\n",
       "      <td>...</td>\n",
       "    </tr>\n",
       "    <tr>\n",
       "      <th>745</th>\n",
       "      <td>Students, parents and staff at a Melbourne hig...</td>\n",
       "      <td>A bubbler at a Melbourne high school has been ...</td>\n",
       "    </tr>\n",
       "    <tr>\n",
       "      <th>746</th>\n",
       "      <td>Steve Bruce is adamant he can keep Hull City i...</td>\n",
       "      <td>Steve Bruce adamant that Hull will avoid releg...</td>\n",
       "    </tr>\n",
       "    <tr>\n",
       "      <th>747</th>\n",
       "      <td>A 69-year-old mentally impaired man from Conne...</td>\n",
       "      <td>Richard Lapointe, a former dishwasher, confess...</td>\n",
       "    </tr>\n",
       "    <tr>\n",
       "      <th>748</th>\n",
       "      <td>Cate McGregor was surprised when she was uncon...</td>\n",
       "      <td>Cate McGregor is a Group Captain in the Royal ...</td>\n",
       "    </tr>\n",
       "    <tr>\n",
       "      <th>749</th>\n",
       "      <td>(CNN)Twenty years ago, on April 19, 1995, Timo...</td>\n",
       "      <td>Twenty years ago, on April 19, 1995, Timothy M...</td>\n",
       "    </tr>\n",
       "  </tbody>\n",
       "</table>\n",
       "<p>750 rows × 2 columns</p>\n",
       "</div>"
      ],
      "text/plain": [
       "                                               article  \\\n",
       "0    Ever noticed how plane seats appear to be gett...   \n",
       "1    A drunk teenage boy had to be rescued by secur...   \n",
       "2    Dougie Freedman is on the verge of agreeing a ...   \n",
       "3    Liverpool target Neto is also wanted by PSG an...   \n",
       "4    Bruce Jenner will break his silence in a two-h...   \n",
       "..                                                 ...   \n",
       "745  Students, parents and staff at a Melbourne hig...   \n",
       "746  Steve Bruce is adamant he can keep Hull City i...   \n",
       "747  A 69-year-old mentally impaired man from Conne...   \n",
       "748  Cate McGregor was surprised when she was uncon...   \n",
       "749  (CNN)Twenty years ago, on April 19, 1995, Timo...   \n",
       "\n",
       "                                            highlights  \n",
       "0    Experts question if  packed out planes are put...  \n",
       "1    Drunk teenage boy climbed into lion enclosure ...  \n",
       "2    Nottingham Forest are close to extending Dougi...  \n",
       "3    Fiorentina goalkeeper Neto has been linked wit...  \n",
       "4    Tell-all interview with the reality TV star, 6...  \n",
       "..                                                 ...  \n",
       "745  A bubbler at a Melbourne high school has been ...  \n",
       "746  Steve Bruce adamant that Hull will avoid releg...  \n",
       "747  Richard Lapointe, a former dishwasher, confess...  \n",
       "748  Cate McGregor is a Group Captain in the Royal ...  \n",
       "749  Twenty years ago, on April 19, 1995, Timothy M...  \n",
       "\n",
       "[750 rows x 2 columns]"
      ]
     },
     "execution_count": 67,
     "metadata": {},
     "output_type": "execute_result"
    }
   ],
   "source": [
    "new_test_df = test_df[:750]\n",
    "new_test_df"
   ]
  },
  {
   "cell_type": "code",
   "execution_count": 68,
   "id": "066d2916-3c41-4b2c-8257-93c28861adc3",
   "metadata": {},
   "outputs": [],
   "source": [
    "X_test= new_test_df['article'].values\n",
    "y_test = new_test_df['highlights'].values"
   ]
  },
  {
   "cell_type": "code",
   "execution_count": 69,
   "id": "ed6f7a73-5e65-4a4f-a0a3-644b34e3f7cc",
   "metadata": {},
   "outputs": [
    {
     "name": "stdout",
     "output_type": "stream",
     "text": [
      "(2000,)\n"
     ]
    }
   ],
   "source": [
    "atricle_tokenizer = Tokenizer(num_words=2000, oov_token=\"<unk>\")\n",
    "atricle_tokenizer.fit_on_texts(X_test)\n",
    "input_sequences = atricle_tokenizer.texts_to_sequences(X_test)\n",
    "# Pad the sequences\n",
    "max_vocab_size_en = 2000  \n",
    "X_padded_test = pad_sequences(input_sequences, maxlen=max_vocab_size_en)\n",
    "print(X_padded_test[0].shape)"
   ]
  },
  {
   "cell_type": "code",
   "execution_count": 70,
   "id": "b1029224-4e72-4dc2-9d40-8ad60d5b3323",
   "metadata": {},
   "outputs": [
    {
     "name": "stdout",
     "output_type": "stream",
     "text": [
      "(1660,)\n"
     ]
    }
   ],
   "source": [
    "highlights_tokenizer = Tokenizer(num_words=2000, oov_token=\"<unk>\")\n",
    "highlights_tokenizer.fit_on_texts(y_test)\n",
    "output_sequences = highlights_tokenizer.texts_to_sequences(y_test)\n",
    "# Pad the sequences\n",
    "max_vocab_size = 2000\n",
    "y_padded_test = pad_sequences(output_sequences, maxlen=max_summary_len)\n",
    "print(y_padded_test[0].shape)"
   ]
  },
  {
   "cell_type": "code",
   "execution_count": 71,
   "id": "f5883981-cd21-4aa5-ad14-9ade4fc6a237",
   "metadata": {},
   "outputs": [
    {
     "name": "stdout",
     "output_type": "stream",
     "text": [
      "24/24 [==============================] - 5s 220ms/step - loss: 1.7718 - accuracy: 0.9686\n",
      "Test Loss: [1.771761417388916, 0.968640148639679]\n"
     ]
    }
   ],
   "source": [
    "# Evaluate on test data if available\n",
    "test_loss = model.evaluate([X_padded_test, y_padded_test], y_padded_test)\n",
    "\n",
    "print(f\"Test Loss: {test_loss}\")"
   ]
  },
  {
   "cell_type": "code",
   "execution_count": 75,
   "id": "e63fb184-ede5-427f-975b-e558714d096c",
   "metadata": {},
   "outputs": [
    {
     "name": "stdout",
     "output_type": "stream",
     "text": [
      "Epoch 1/5\n",
      "3/3 [==============================] - 2s 716ms/step - loss: 1.6292 - accuracy: 0.9683 - val_loss: 1.2881 - val_accuracy: 0.9625\n",
      "Epoch 2/5\n",
      "3/3 [==============================] - 2s 642ms/step - loss: 1.1291 - accuracy: 0.9683 - val_loss: 0.9011 - val_accuracy: 0.9625\n",
      "Epoch 3/5\n",
      "3/3 [==============================] - 2s 718ms/step - loss: 0.7781 - accuracy: 0.9683 - val_loss: 0.6614 - val_accuracy: 0.9625\n",
      "Epoch 4/5\n",
      "3/3 [==============================] - 2s 628ms/step - loss: 0.5663 - accuracy: 0.9683 - val_loss: 0.5342 - val_accuracy: 0.9625\n",
      "Epoch 5/5\n",
      "3/3 [==============================] - 2s 684ms/step - loss: 0.4557 - accuracy: 0.9683 - val_loss: 0.4728 - val_accuracy: 0.9625\n"
     ]
    }
   ],
   "source": [
    "history = model.fit([padded_train_sequences_en, padded_train_sequences_de],\n",
    "                    padded_train_sequences_de,\n",
    "                    batch_size=32,\n",
    "                    epochs=5,\n",
    "                    validation_data=([padded_val_sequences_en, padded_val_sequences_de], padded_val_sequences_de)\n",
    "                    )\n"
   ]
  },
  {
   "cell_type": "code",
   "execution_count": 76,
   "id": "f367bbe7-50fa-454b-9a41-0b172ad8e97b",
   "metadata": {},
   "outputs": [
    {
     "name": "stdout",
     "output_type": "stream",
     "text": [
      "24/24 [==============================] - 5s 226ms/step - loss: 0.3909 - accuracy: 0.9686\n",
      "Test Loss: [0.3909311890602112, 0.968640148639679]\n"
     ]
    }
   ],
   "source": [
    "test_loss = model.evaluate([X_padded_test, y_padded_test], y_padded_test)\n",
    "print(f\"Test Loss: {test_loss}\")\n"
   ]
  },
  {
   "cell_type": "code",
   "execution_count": 78,
   "id": "c178984d-a522-4a89-b7d9-068eb3c8cdf5",
   "metadata": {},
   "outputs": [
    {
     "data": {
      "image/png": "[encoded data removed]",
      "text/plain": [
       "<Figure size 1200x600 with 1 Axes>"
      ]
     },
     "metadata": {},
     "output_type": "display_data"
    }
   ],
   "source": [
    "import matplotlib.pyplot as plt\n",
    "\n",
    "# Plot training & validation loss values\n",
    "plt.figure(figsize=(12, 6))\n",
    "\n",
    "# Plot the loss curves\n",
    "plt.subplot(1, 2, 1)\n",
    "plt.plot(history.history['loss'], label='Training Loss')\n",
    "plt.plot(history.history['val_loss'], label='Validation Loss')\n",
    "plt.title('Model Loss')\n",
    "plt.xlabel('Epochs')\n",
    "plt.ylabel('Loss')\n",
    "plt.legend()\n",
    "plt.grid()\n",
    "\n"
   ]
  },
  {
   "cell_type": "code",
   "execution_count": 83,
   "id": "ae5d61c4-e9ec-4ab6-b7a7-0a28e0f2da77",
   "metadata": {},
   "outputs": [
    {
     "name": "stdout",
     "output_type": "stream",
     "text": [
      "(2000,)\n",
      "(100,)\n"
     ]
    }
   ],
   "source": [
    "from keras.preprocessing.sequence import pad_sequences\n",
    "\n",
    "# Assuming input_sequences and output_sequences are defined\n",
    "max_vocab_size_en = 2000\n",
    "max_summary_len = 100  # Set this to the appropriate maximum length for summaries\n",
    "\n",
    "# Pad the input sequences\n",
    "X_padded = pad_sequences(input_sequences, maxlen=2000)\n",
    "print(X_padded[0].shape)\n",
    "\n",
    "# Pad the output sequences\n",
    "y_padded = pad_sequences(output_sequences, maxlen=max_summary_len)\n",
    "print(y_padded[0].shape)\n"
   ]
  },
  {
   "cell_type": "code",
   "execution_count": 84,
   "id": "db8f30d7-bd97-4984-98db-11f54324cea0",
   "metadata": {},
   "outputs": [
    {
     "name": "stdout",
     "output_type": "stream",
     "text": [
      "Epoch 1/5\n",
      "3/3 [==============================] - 5s 755ms/step - loss: 0.3956 - accuracy: 0.9683 - val_loss: 0.4247 - val_accuracy: 0.9625\n",
      "Epoch 2/5\n",
      "3/3 [==============================] - 2s 512ms/step - loss: 0.3511 - accuracy: 0.9683 - val_loss: 0.3970 - val_accuracy: 0.9625\n",
      "Epoch 3/5\n",
      "3/3 [==============================] - 2s 522ms/step - loss: 0.3186 - accuracy: 0.9683 - val_loss: 0.3481 - val_accuracy: 0.9625\n",
      "Epoch 4/5\n",
      "3/3 [==============================] - 2s 528ms/step - loss: 0.2671 - accuracy: 0.9683 - val_loss: 0.3003 - val_accuracy: 0.9627\n",
      "Epoch 5/5\n",
      "3/3 [==============================] - 1s 465ms/step - loss: 0.2434 - accuracy: 0.9690 - val_loss: 0.2897 - val_accuracy: 0.9635\n"
     ]
    }
   ],
   "source": [
    "model.compile(optimizer='adam', loss='sparse_categorical_crossentropy', metrics=[\"accuracy\"])\n",
    "history = model.fit(\n",
    "    [padded_train_sequences_en, padded_train_sequences_de],\n",
    "    padded_train_sequences_de,\n",
    "    batch_size=32,\n",
    "    epochs=5,\n",
    "    validation_data=([padded_val_sequences_en, padded_val_sequences_de], padded_val_sequences_de)\n",
    ")\n"
   ]
  },
  {
   "cell_type": "code",
   "execution_count": 85,
   "id": "e133bcb2-e463-43f4-9fc1-08b8129b5fbd",
   "metadata": {},
   "outputs": [
    {
     "name": "stdout",
     "output_type": "stream",
     "text": [
      "1/1 [==============================] - 1s 877ms/step\n"
     ]
    }
   ],
   "source": [
    "import numpy as np\n",
    "\n",
    "# Make predictions for the validation set\n",
    "predictions = model.predict([padded_val_sequences_en, padded_val_sequences_de])\n",
    "predicted_summaries = np.argmax(predictions, axis=-1)\n",
    "\n",
    "# Convert predicted indices back to text\n",
    "predicted_texts = tokenizer.sequences_to_texts(predicted_summaries)\n"
   ]
  },
  {
   "cell_type": "code",
   "execution_count": 87,
   "id": "c4900851-afae-43ad-8fc8-46476253e6f7",
   "metadata": {},
   "outputs": [],
   "source": [
    "# Assuming `data` is your DataFrame and it contains a 'highlights' column\n",
    "actual_summaries = train_df['highlights'].values[:len(predicted_texts)]  # Ensure this matches the length of predicted texts\n"
   ]
  },
  {
   "cell_type": "code",
   "execution_count": 89,
   "id": "bffb6b94-16b3-49e3-8fe4-43050fc14ea9",
   "metadata": {},
   "outputs": [
    {
     "name": "stdout",
     "output_type": "stream",
     "text": [
      "Epoch 1/5\n",
      "3/3 [==============================] - 5s 745ms/step - loss: 0.2315 - accuracy: 0.9688 - val_loss: 0.2892 - val_accuracy: 0.9626\n",
      "Epoch 2/5\n",
      "3/3 [==============================] - 1s 485ms/step - loss: 0.2202 - accuracy: 0.9686 - val_loss: 0.2789 - val_accuracy: 0.9636\n",
      "Epoch 3/5\n",
      "3/3 [==============================] - 1s 485ms/step - loss: 0.2117 - accuracy: 0.9704 - val_loss: 0.2760 - val_accuracy: 0.9637\n",
      "Epoch 4/5\n",
      "3/3 [==============================] - 2s 498ms/step - loss: 0.2062 - accuracy: 0.9705 - val_loss: 0.2752 - val_accuracy: 0.9636\n",
      "Epoch 5/5\n",
      "3/3 [==============================] - 1s 484ms/step - loss: 0.2019 - accuracy: 0.9703 - val_loss: 0.2746 - val_accuracy: 0.9636\n",
      "1/1 [==============================] - 1s 516ms/step\n",
      "Average ROUGE-1: 0.0295\n",
      "Average ROUGE-2: 0.0000\n",
      "Average ROUGE-L: 0.0287\n",
      "\n",
      "--- Actual and Predicted Summaries ---\n",
      "Article 1:\n",
      "Actual Summary: Confirms West Napa Fault system was responsible for the 6.0 earthquake .\n",
      "Reveals area of about 30x30 km was affected significantly .\n",
      "Fault slip continues further north than previously thought .\n",
      "system set to be used to monitor all future earthquakes .\n",
      "Predicted Summary: the this this this this this this this this this this this this this this this this this this this this this this this this this this this this this this this this this this this this this this this this this this\n",
      "\n",
      "Article 2:\n",
      "Actual Summary: Yet more snow heading to Northeast United States this weekend .\n",
      "Many are tired of it, but some are SAD. Here are suggestions to help cheer up .\n",
      "Predicted Summary: the this this this this this this this this this this this this this this this this this this this this this this this this this this this this this this this this this this\n",
      "\n",
      "Article 3:\n",
      "Actual Summary: Banksy started out as a graffiti artist in western England but his work now sells for millions .\n",
      "He is in New York for what his spokesperson says is a \"month-long residency.\"\n",
      "Banksy is painting images, taking photos and publishing them on Instagram and his website.\n",
      "Finders of the works can phone a toll-free number to get a commentary on them.\n",
      "Predicted Summary: the the this this this this this this this this this this this this this this this this this this this this this this this\n",
      "\n",
      "Article 4:\n",
      "Actual Summary: 'Busloads' of Polish workers arrive at Next's warehouse in West Yorkshire .\n",
      "Unemployment higher than average in Humber and Yorkshire with 218,000 out of work .\n",
      "Reports that Polish agency has sent 7,000 people to work at Next already .\n",
      "Operations director at Polish firm said he received 100 calls a day asking about Next jobs .\n",
      "Next says it currently uses about 250 Polish workers and hires up to 500 a year .\n",
      "Spokesman claims the firm 'simply cannot recruit enough people locally'\n",
      "Predicted Summary: this this this this this this this this this this this this this this this this this this this this this this this this this this this this this this this\n",
      "\n",
      "Article 5:\n",
      "Actual Summary: Nathalie Pulford charged out of a Chelsea restaurant to confront the MP .\n",
      "'I said to him: \"Don't you realise you .\n",
      "absolutely bashed into my car?\" - he had walloped these cars - and he .\n",
      "said: \"No I didn't. It wasn't me\", she said .\n",
      "Mr Bercow admits he's 'not the best' driver but denies he hit any car .\n",
      "Waitress watching through window taking an order said: 'I saw the bump'\n",
      "Mr Bercow’s five-year-old daughter was reduced to tears during the filming of a TV show in which she was quizzed about her celebrity mother, Sally. Jemima Bercow had to be taken off the stage three times on ITV’s Big Star’s Little Star, where the children of celebrities answer questions about their parents.\n",
      "Predicted Summary: the the this this this this this this this this this this this this this this this this this this this this this this this\n",
      "\n",
      "Article 6:\n",
      "Actual Summary: Manchester City's defence failed to deal with the threat of CSKA Moscow star Seydou Doumbia .\n",
      "Manuel Pellegrini's side lost 2-1 against the Russia outfit at the Etihad .\n",
      "City's hopes of qualifying for the knockout stages are extremely slim .\n",
      "Fernandinho and Yaya Toure were sent off against CSKA Moscow .\n",
      "Predicted Summary: the the this this this this this this this this this this this this this this this this this this this this this this this this this this this this this this this this this this this this this this this this this this\n",
      "\n",
      "Article 7:\n",
      "Actual Summary: Tanis Bhandari died after being attacked on New Year's Eve with an axe .\n",
      "The 27-year-old was part of a group of 'innocent' people targeted in Devon .\n",
      "A woman in their group was reportedly asked for a cigarette by attacker .\n",
      "Mr Bhandari is said to have stood in front of her to shield her from harm .\n",
      "He was then hacked with an axe, residents in the village have claimed .\n",
      "One man remains in hospital and is thought to be in serious condition .\n",
      "Two men, aged 20 and 21, have been arrested on suspicion of murder .\n",
      "Devon and Cornwall Police to continue questioning the suspects .\n",
      "Predicted Summary: the first first the this this this this this this this this this this this this this this this this this this this this this this this this this this this this this this this this this this this this this this this this this\n",
      "\n",
      "Article 8:\n",
      "Actual Summary: The medication Aimee Copeland is given leads her to forget what has happened .\n",
      "She may lose her fingers .\n",
      "Doctors have already amputated one of her legs and part of her abdomen .\n",
      "Her father promises they will one day celebrate her ability to breathe on her own .\n",
      "Predicted Summary: the this this this this this this this this this this this this this this this this this this this this this this this this this this this this this this this this\n",
      "\n",
      "Article 9:\n",
      "Actual Summary: Ryan Giggs makes first television appearance since becoming Manchester United assistant manager .\n",
      "Giggs appeared alongside Diego Maradona for Dubai football talent show .\n",
      "Programme aims to find next star in the United Arab Emirates .\n",
      "United veteran made awkward speech to camera after 'successful night'\n",
      "Predicted Summary: the the the this this this this this this this this this this this this this this this this this this\n",
      "\n",
      "Article 10:\n",
      "Actual Summary: Bassel Saad, 36, charged with second-degree murder in Livonia, Michigan for the fatal punch on June 29 .\n",
      "Saad allegedly punched referee John Bieniewicz after being told he was being ejected from game .\n",
      "Bieniewicz, a 44-year-old dialysis tech at a local hospital, was a married father-of-two .\n",
      "Predicted Summary: this this this this this this this this this this this this this this this this this this this this this this this this\n",
      "\n"
     ]
    }
   ],
   "source": [
    "import numpy as np\n",
    "import pandas as pd\n",
    "from keras.preprocessing.sequence import pad_sequences\n",
    "from rouge_score import rouge_scorer\n",
    "\n",
    "# Step 1: Pad the sequences\n",
    "max_vocab_size_en = 2000\n",
    "max_summary_len = 100  # Adjust this as necessary\n",
    "\n",
    "# Assuming input_sequences and output_sequences are defined\n",
    "X_padded = pad_sequences(input_sequences, maxlen=2000)\n",
    "y_padded = pad_sequences(output_sequences, maxlen=max_summary_len)\n",
    "\n",
    "# Step 2: Compile and Train the Model\n",
    "model.compile(optimizer='adam', loss='sparse_categorical_crossentropy', metrics=[\"accuracy\"])\n",
    "history = model.fit(\n",
    "    [padded_train_sequences_en, padded_train_sequences_de],\n",
    "    padded_train_sequences_de,\n",
    "    batch_size=32,\n",
    "    epochs=5,\n",
    "    validation_data=([padded_val_sequences_en, padded_val_sequences_de], padded_val_sequences_de)\n",
    ")\n",
    "\n",
    "# Step 3: Make Predictions\n",
    "predictions = model.predict([padded_val_sequences_en, padded_val_sequences_de])\n",
    "predicted_summaries = np.argmax(predictions, axis=-1)\n",
    "\n",
    "# Convert predicted indices back to text\n",
    "predicted_texts = tokenizer.sequences_to_texts(predicted_summaries)\n",
    "\n",
    "# Step 4: Extract Actual Summaries\n",
    "# Assuming `data` is your DataFrame and it contains a 'highlights' column\n",
    "actual_summaries = train_df['highlights'].values[:len(predicted_texts)]\n",
    "\n",
    "# Step 5: Calculate ROUGE Scores\n",
    "scorer = rouge_scorer.RougeScorer(['rouge1', 'rouge2', 'rougeL'], use_stemmer=True)\n",
    "\n",
    "# Prepare to store ROUGE scores and summaries\n",
    "rouge_scores = {\n",
    "    'rouge1': [],\n",
    "    'rouge2': [],\n",
    "    'rougeL': []\n",
    "}\n",
    "\n",
    "# Iterate over the predicted and actual summaries\n",
    "for pred, actual in zip(predicted_texts, actual_summaries):\n",
    "    scores = scorer.score(actual, pred)\n",
    "    rouge_scores['rouge1'].append(scores['rouge1'].fmeasure)\n",
    "    rouge_scores['rouge2'].append(scores['rouge2'].fmeasure)\n",
    "    rouge_scores['rougeL'].append(scores['rougeL'].fmeasure)\n",
    "\n",
    "# Average ROUGE scores\n",
    "average_rouge1 = np.mean(rouge_scores['rouge1'])\n",
    "average_rouge2 = np.mean(rouge_scores['rouge2'])\n",
    "average_rougeL = np.mean(rouge_scores['rougeL'])\n",
    "\n",
    "print(f'Average ROUGE-1: {average_rouge1:.4f}')\n",
    "print(f'Average ROUGE-2: {average_rouge2:.4f}')\n",
    "print(f'Average ROUGE-L: {average_rougeL:.4f}')\n",
    "\n",
    "# Print actual and predicted summaries for the first 10 articles\n",
    "print(\"\\n--- Actual and Predicted Summaries ---\")\n",
    "for i in range(10):  # Adjust the range as needed\n",
    "    print(f\"Article {i + 1}:\")\n",
    "    print(f\"Actual Summary: {actual_summaries[i]}\")\n",
    "    print(f\"Predicted Summary: {predicted_texts[i]}\\n\")\n"
   ]
  },
  {
   "cell_type": "code",
   "execution_count": null,
   "id": "dd7be4e7-648a-4785-a4f9-476c7c73fdb9",
   "metadata": {},
   "outputs": [],
   "source": []
  }
 ],
 "metadata": {
  "kernelspec": {
   "display_name": "Python 3 (ipykernel)",
   "language": "python",
   "name": "python3"
  },
  "language_info": {
   "codemirror_mode": {
    "name": "ipython",
    "version": 3
   },
   "file_extension": ".py",
   "mimetype": "text/x-python",
   "name": "python",
   "nbconvert_exporter": "python",
   "pygments_lexer": "ipython3",
   "version": "3.11.7"
  }
 },
 "nbformat": 4,
 "nbformat_minor": 5
}
